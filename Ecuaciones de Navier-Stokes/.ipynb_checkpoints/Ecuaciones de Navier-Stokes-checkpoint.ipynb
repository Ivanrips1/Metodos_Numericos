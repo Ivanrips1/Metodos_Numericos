{
 "cells": [
  {
   "cell_type": "markdown",
   "id": "5f0b2281-2f15-4300-b259-af8a55151cd4",
   "metadata": {},
   "source": [
    "# Ecuaciones de Navier-Stokes"
   ]
  },
  {
   "cell_type": "markdown",
   "id": "96707da5-91b9-4bdd-a7dd-5136a6a1601f",
   "metadata": {
    "tags": []
   },
   "source": [
    "## 1. ¿Qué son las ecuaciones de Navier-Stokes?"
   ]
  },
  {
   "cell_type": "markdown",
   "id": "a2e4d2de-dddd-400f-aff9-a3afdea722d8",
   "metadata": {
    "tags": []
   },
   "source": [
    "Son un conjunto de ecuaciones matemáticas que describen el movimiento de fluidos viscosos. Son una de las herramientas más importantes en mecánica de fluidos, y se utilizan para predecir y comprender el comportamiento de los fluidos en diferentes situaciones, desde el flujo en un tubo hasta la circulación de los oceanos.\n",
    "\n",
    "Estas ecuaciones se basan en la conservación de la masa, el momento y la energía del fluido, y también incluyen términos que describen la viscosidad y la turbulencia. La solución de estas ecuaciones permite estimar la velocidad, la presión y la densidad del fluido en un punto determinado en el espacio y en un momento determinado.\n",
    "\n",
    "Las ecuaciones de Navier-Stokes son muy complejas y, a menudo, no se pueden resolver analíticamente, por lo que se utilizan métodos numéricos y de simulación para resolverlas en situaciones reales. A pesar de su complejidad, estas ecuaciones son una herramienta valiosa en una variedad de aplicaciones prácticas, como el diseño de turbinas eólicas, la simulación de flujos en tubos y conductos, y la predicción de la circulación oceanográfica."
   ]
  },
  {
   "cell_type": "markdown",
   "id": "2432d63a-0bce-4a7b-8dc5-83e62ead1374",
   "metadata": {},
   "source": [
    "* Ecuación de Continuidad  \n",
    "\\begin{equation} \\frac{∂\\rho}{∂t} + \\nabla.\\rho\\vec{V}=0 \\tag{1} \\end{equation}\n",
    "\n",
    "* Ecuación de Momento  \n",
    "\\begin{equation} \\rho \\left[\\frac{∂V}{∂t}+(V.\\nabla) V \\right] = -\\nabla p + \\rho \\vec{g} + \\mu \\nabla^2 \\vec{V} \\tag{2} \\end{equation}"
   ]
  },
  {
   "cell_type": "markdown",
   "id": "79096ab1-406f-48a4-a807-9db61309edc9",
   "metadata": {},
   "source": [
    "_Donde:_    \n",
    "* $\\frac{dV}{dt}$; _Cambio de la velocidad con el tiempo_  \n",
    "* $(V.\\nabla) V$; _Término convectivo_  \n",
    "* $-\\nabla p$; _Gradiente de Presión_  \n",
    "* $\\rho \\vec{g}$; _Fuerzas que actuan sobre el cuerpo_  \n",
    "* $\\mu \\nabla^2 \\vec{V}$; _Término difusivo_"
   ]
  },
  {
   "cell_type": "markdown",
   "id": "aa09dc11-707f-4064-8df8-18e113538550",
   "metadata": {
    "tags": []
   },
   "source": [
    "## 2. Segunda Ley de Newton"
   ]
  },
  {
   "cell_type": "markdown",
   "id": "1a91c981-83b5-4a34-b0d7-9260c60aa987",
   "metadata": {},
   "source": [
    "La segunda Ley de Newton dice que: **“La aceleración de un objeto es directamente proporcional a la fuerza que actúa sobre él e inversamente proporcional a la masa”.**\n",
    "\n",
    "Es decir, que si tenemos un partícula fluida, la rapidez del incremento de su momentum (fuerza o impulso) es igual a la suma de todas las fuerzas que actuan sobre ella. Las fuerzas que actuan sobre una particula fluida son:  \n",
    "\n",
    "* Fuerzas Superficiales:\n",
    "    * Diferencia de Presiones\n",
    "    * Fuerza de viscosidad\n",
    "    * Tensión superficial\n",
    "\n",
    "+ Fuerzas Volumétricas: \n",
    "    * Fuerza de gravedad\n",
    "    * Fuerza de Coriolis\n",
    "    * Fuerza centrífuga\n",
    "    * Fuerta electromagnética\n"
   ]
  },
  {
   "cell_type": "markdown",
   "id": "c86ec9b4-f27b-43e6-a61d-b4407739e414",
   "metadata": {},
   "source": [
    "\\begin{equation}F_p + F_v + W + S = m.a \\tag{3} \\end{equation}"
   ]
  },
  {
   "cell_type": "markdown",
   "id": "fff9b6a6-1ed4-4d55-83ae-89d3fb5b0478",
   "metadata": {},
   "source": [
    "_Donde:_  \n",
    "* $F_p$; _Fuerzas de presión_  \n",
    "* $F_v$; _Fuerzas Viscosas_  \n",
    "* $W$; _Peso_  \n",
    "* $S$; _Fuerzas volumétricas adicionales_  \n",
    "* $m$; _Masa_  \n",
    "* $a$; _Aceleración_  "
   ]
  },
  {
   "cell_type": "markdown",
   "id": "26de0d48-50b0-40d8-9f40-ae9be4a29f2a",
   "metadata": {},
   "source": [
    "En la figura se indica que mientras mayor sea la fuerza que se ejerce a un objeto, este tendrá mayor aceleración. Lo mismo sucede para el caso de los fluidos."
   ]
  },
  {
   "cell_type": "markdown",
   "id": "4f749c5a-855b-4e8d-af16-031c0c6d7044",
   "metadata": {},
   "source": [
    "<center><img src=\"./imagenes/SegundaLey.jpg\" width=\"600\"/> </center>"
   ]
  },
  {
   "cell_type": "markdown",
   "id": "b4ccbaeb-f65c-4594-8d1e-bb4c2651531f",
   "metadata": {
    "tags": []
   },
   "source": [
    "## 3. Movimiento del Fluido"
   ]
  },
  {
   "cell_type": "markdown",
   "id": "8fb9b9c2-b026-402b-b830-cd9d7e16e922",
   "metadata": {},
   "source": [
    "Considerando al flujo de fluidos como un conjunto de partículas (enfoque lagrangiano). Podemos estudiar solo una partícula cuya velocidad en un tiempo dado sea _V_, por lo tanto sus componentes en los tres ejes coordenados serán; $V = (V_x,V_y,V_z)$. A su vez cada componente de velocidad se puede escribir de la siguiente manera incorporando el tiempo:"
   ]
  },
  {
   "cell_type": "markdown",
   "id": "3826d05b-f863-4b64-ac45-9a6015a6a000",
   "metadata": {},
   "source": [
    "\\begin{equation*} V_x = f_1(x,y,z,t) \\tag{4a} \\end{equation*}\n",
    "\\begin{equation*} V_y = f_2(x,y,z,t) \\tag{4b} \\end{equation*}\n",
    "\\begin{equation*} V_z = f_3(x,y,z,t) \\tag{4c} \\end{equation*}"
   ]
  },
  {
   "cell_type": "markdown",
   "id": "f8e746f7-cf93-4822-8d5e-0b56c7446564",
   "metadata": {},
   "source": [
    "Donde $x,y,z$ representan la posición de la partícula en los tres ejes coordenados y $t$ representa el tiempo para la posición dada."
   ]
  },
  {
   "cell_type": "markdown",
   "id": "665b4b9c-062a-4f3a-8f82-ac8f472073f1",
   "metadata": {},
   "source": [
    "Si derivamos cada componente de la velocidad $V$ respecto del tiempo obtendremos lo siguiente para $V_x$:"
   ]
  },
  {
   "cell_type": "markdown",
   "id": "238eb24b-87f1-4976-9d1c-b0b9cafa4f1b",
   "metadata": {},
   "source": [
    "\\begin{equation} \\frac{dV_x}{dt}=\\frac{∂f_1}{∂x}\\frac{dx}{dt}+\\frac{∂f_1}{∂y}\\frac{dy}{dt}+\\frac{∂f_1}{∂z}\\frac{dz}{dt}+\\frac{∂f_1}{∂t} \\tag{5} \\end{equation}"
   ]
  },
  {
   "cell_type": "markdown",
   "id": "aee23780-7e00-40e9-82e5-e345b47626bb",
   "metadata": {},
   "source": [
    "Recordar que el símbolo \"_d_\" es usada para representar ecuaciones diferenciales ordinarias, mientras que \"_∂_\" es para representar ecuaciones diferenciales parciales."
   ]
  },
  {
   "cell_type": "markdown",
   "id": "0c31e21f-d903-4234-9e89-b51dd057bab3",
   "metadata": {},
   "source": [
    "Como la función $f_1$ es igual a $V_x$ entonces podemos reemplazar la ecuación _(5)_ y tener: "
   ]
  },
  {
   "cell_type": "markdown",
   "id": "48129fb5-2af3-404e-acba-c5bb66d4aa34",
   "metadata": {},
   "source": [
    "\\begin{equation*} \\frac{dV_x}{dt}=\\frac{∂V_x}{∂x}\\frac{dx}{dt}+\\frac{∂V_x}{∂y}\\frac{dy}{dt}+\\frac{∂V_x}{∂z}\\frac{dz}{dt}+\\frac{∂V_x}{∂t} \\tag{6} \\end{equation*}"
   ]
  },
  {
   "cell_type": "markdown",
   "id": "b645ed02-3841-44a4-8c5b-ba2d19e5387e",
   "metadata": {},
   "source": [
    "Además, sabemos que la derivada de la posición respecto del tiempo es la velocidad por esa razón tenemos que:"
   ]
  },
  {
   "cell_type": "markdown",
   "id": "ebf05f00-34ee-4dd0-9819-e1c0aa699489",
   "metadata": {},
   "source": [
    "\\begin{equation*} V_x = \\frac{dx}{dt} \\tag{7a} \\end{equation*}\n",
    "\\begin{equation*} V_y = \\frac{dy}{dt} \\tag{7b} \\end{equation*}\n",
    "\\begin{equation*} V_z = \\frac{dz}{dt} \\tag{7c} \\end{equation*}"
   ]
  },
  {
   "cell_type": "markdown",
   "id": "00e114bb-5663-4587-b491-f61c90ac908b",
   "metadata": {},
   "source": [
    "Reemplazando las velocidades _(7a),(7b) y (7c)_ en la ecuación _(6)_ tenemos:"
   ]
  },
  {
   "cell_type": "markdown",
   "id": "b55736f2-e3d7-4ef6-b6a8-413e09e2af4b",
   "metadata": {},
   "source": [
    "\\begin{equation} \\frac{dV_x}{dt}=\\frac{∂V_x}{∂x}V_x+\\frac{∂V_x}{∂y}V_y+\\frac{∂V_x}{∂z}V_z+\\frac{∂V_x}{∂t} \\tag{8} \\end{equation}"
   ]
  },
  {
   "cell_type": "markdown",
   "id": "ebd9bf34-4d02-44b5-b6e0-83465ee1907c",
   "metadata": {},
   "source": [
    "Así mismo, sabemos que la aceleración es la derivada de la posición respecto del tiempo por lo tanto podemos escribir la aceleración en los tres ejes coordenados como:"
   ]
  },
  {
   "cell_type": "markdown",
   "id": "7a706453-4a82-4492-ac5d-48bc60c1c7bd",
   "metadata": {},
   "source": [
    "\\begin{equation} a_x = \\frac{dV_x}{dt} \\tag{9a} \\end{equation}\n",
    "\\begin{equation} a_y = \\frac{dV_y}{dt}  \\tag{9b}\\end{equation}\n",
    "\\begin{equation} a_z = \\frac{dV_z}{dt} \\tag{9c} \\end{equation}"
   ]
  },
  {
   "cell_type": "markdown",
   "id": "82bbde23-d364-4231-b0ad-ddad3646748e",
   "metadata": {},
   "source": [
    "Reemplazando la ecuación _(9a)_ en la ecuación _(8)_ tenemos que:"
   ]
  },
  {
   "cell_type": "markdown",
   "id": "87537452-74a2-4373-afd7-86d11d07a61f",
   "metadata": {},
   "source": [
    "\\begin{equation} a_x=\\frac{∂V_x}{∂x}V_x+\\frac{∂V_x}{∂y}V_y+\\frac{∂V_x}{∂z}V_z+\\frac{∂V_x}{∂t} \\tag{10} \\end{equation}"
   ]
  },
  {
   "cell_type": "markdown",
   "id": "6a62e60e-7ca9-43df-a0ae-763b950160bf",
   "metadata": {},
   "source": [
    "Si repetimos el mismo proceso para los ejes $y$ y $z$ tendremos que los componentes de la aceleración serán:"
   ]
  },
  {
   "cell_type": "markdown",
   "id": "c2245785-d707-4666-90d7-98288965629a",
   "metadata": {},
   "source": [
    "\\begin{equation} a_x=\\frac{∂V_x}{∂x}V_x+\\frac{∂V_x}{∂y}V_y+\\frac{∂V_x}{∂z}V_z+\\frac{∂V_x}{∂t} \\tag{11a} \\end{equation}\n",
    "\\begin{equation} a_y=\\frac{∂V_y}{∂x}V_y+\\frac{∂V_y}{∂y}V_y+\\frac{∂V_y}{∂z}V_z+\\frac{∂V_y}{∂t} \\tag{11b} \\end{equation}\n",
    "\\begin{equation} a_z=\\frac{∂V_z}{∂x}V_z+\\frac{∂V_z}{∂y}V_y+\\frac{∂V_z}{∂z}V_z+\\frac{∂V_z}{∂t} \\tag{11c} \\end{equation}"
   ]
  },
  {
   "cell_type": "markdown",
   "id": "397067ee-5ad2-44c8-b9b2-5684c4413e06",
   "metadata": {
    "tags": []
   },
   "source": [
    "## 4. Presión ejercida sobre el fluido"
   ]
  },
  {
   "cell_type": "markdown",
   "id": "bdcbdabb-d3fa-4832-8550-8917bdb468a0",
   "metadata": {},
   "source": [
    "Imaginemos que tenemos un volumen infinitesimal de un flujo de fluidos. Asumamos que ese volumen tiene forma cúbica cuyas dimensiones son; $dx, dy, dz$; y dentro del mismo (en el centro) tenemos el punto $A(x, y ,z)$ sobre el cual existe una presión $P = f(x, y, z)$. Si solo analizamos el eje $x$ (observa la dirección del eje $x$ en la figura), entonces en las caras donde el eje $x$ es perpendicular existirá una presión."
   ]
  },
  {
   "cell_type": "markdown",
   "id": "839a11d6-8815-47cd-8971-76d2421264c2",
   "metadata": {},
   "source": [
    "<center><img src=\"./imagenes/Presion.jpg\" width=\"400\"/></center>"
   ]
  },
  {
   "cell_type": "markdown",
   "id": "6224224f-1267-40be-9824-da2c3060b3e4",
   "metadata": {},
   "source": [
    "Analicemos primero la cara izquierda. Si en el punto $A(x ,y ,z)$ la presión es $P(x ,y ,z)$, entonces para determinar la presión en cara izquierda debemos utilizar la serie de Taylor. Recordemos que la serie de Taylor es una serie funcional mediante la cual podemos encontrar una solución a una función. En nuestro caso la función es la presión y queremos conocerla en la cara izquierda (y luego derecha) del cubo infinitesimal."
   ]
  },
  {
   "cell_type": "markdown",
   "id": "1239682a-a69b-4c02-96b2-c9f9db066517",
   "metadata": {},
   "source": [
    "La serie de Taylor tiene la siguiente forma:"
   ]
  },
  {
   "cell_type": "markdown",
   "id": "f9f9cc43-3120-44a9-86ae-435ab33e2402",
   "metadata": {},
   "source": [
    "\\begin{equation} f(x) = \\sum_{n=0}^\\infty \\frac{1}{n!} \\frac{d^nf(x)}{dx^n} (x-x_0)^n \\tag{12} \\end{equation} "
   ]
  },
  {
   "cell_type": "markdown",
   "id": "2013a09a-f2ed-4f30-9e9e-c1d53243463c",
   "metadata": {},
   "source": [
    "Resolviendo la serie de Taylor tenemos:"
   ]
  },
  {
   "cell_type": "markdown",
   "id": "72d8dca9-52fb-4679-aaf5-07115b8bd155",
   "metadata": {},
   "source": [
    "\\begin{equation}  f(x) = f(x_0) + \\frac{1}{1!}\\frac{df(x_0)}{dx} (x-x_0) + \\frac{1}{2!}\\frac{d^2f(x_0)}{dx^2}(x-x_0)^2 + ... \\tag{13} \\end{equation} "
   ]
  },
  {
   "cell_type": "markdown",
   "id": "50bf8578-6b56-4be3-8de4-ad45b7cc6d90",
   "metadata": {},
   "source": [
    "Consideremos solamente los dos primeros términos de la serie de Taylor y desarrollemos la aproximación para la función de la presión _P_, solo en el eje _x_."
   ]
  },
  {
   "cell_type": "markdown",
   "id": "cfb1231b-2d51-4de6-aea2-4b807ec68d5e",
   "metadata": {},
   "source": [
    "\\begin{equation} p(x) = p(x_0) + \\frac{1}{1!} \\frac{dp(x_0)}{dx} (x-x_0) \\tag{14} \\end{equation}"
   ]
  },
  {
   "cell_type": "markdown",
   "id": "1782843a-3663-4b70-a5fc-bd0a0d04b8a7",
   "metadata": {},
   "source": [
    "De la figura sabemos que en dirección $x$ la distancia del cubo infinitesimal es $dx$. Eso significa que la distancia entre el centro y la cara izquierda del cubo es $\\frac{dx}{2}$. Si además consideramos que el punto en el centro de la cara izquierda es $(x_0,y_0,z_0)$, que es donde quiero conocer la presión $p(x_0)$, entonces podemos escrirbir la ecuación _(14)_ como:"
   ]
  },
  {
   "cell_type": "markdown",
   "id": "c67dd03f-4a44-4691-9f2c-553cbca41b97",
   "metadata": {},
   "source": [
    "\\begin{equation} p = p(x_0)+\\frac{∂p(x_0)}{∂x}\\frac{dx}{2} \\tag{15} \\end{equation}"
   ]
  },
  {
   "cell_type": "markdown",
   "id": "ce5770e6-3480-48c6-831b-6d166baf0bfb",
   "metadata": {},
   "source": [
    "Entonces la presión en la cara izquierda será:"
   ]
  },
  {
   "cell_type": "markdown",
   "id": "0bc3f0e7-d913-4593-8bc7-af73f4131379",
   "metadata": {},
   "source": [
    "\\begin{equation} p(x_0) = p-\\frac{∂p(x_0)}{∂x}\\frac{dx}{2} \\tag{16} \\end{equation}"
   ]
  },
  {
   "cell_type": "markdown",
   "id": "86ff0a3a-d131-488a-8ba8-c51ad381728e",
   "metadata": {},
   "source": [
    "Nótese que $(x-x_0)$ es la distancia entre el centro del cubo infinitesimal y la cara izquierda. Si la distancia entre la cara izquierda y la cara derecha es $dx$ entonces; $(x-x_0)=\\frac{dx}{2}$. Además, observe que $p(x_0)$ es la suma de la presión en el punto $A$ más un diferencial de presión $dp$, es decir; $p(x_o) = p + dp$"
   ]
  },
  {
   "cell_type": "markdown",
   "id": "9a9f105e-709d-4768-ada1-2220425a3d0e",
   "metadata": {},
   "source": [
    "Si repetimos el proceso para la cara derecha tendremos una ecuación similar con el signo cambiado como se muestra a continuación:"
   ]
  },
  {
   "cell_type": "markdown",
   "id": "0a83ab9e-9326-4acc-8ef1-61a3ae33f820",
   "metadata": {},
   "source": [
    "* Cara izquierda"
   ]
  },
  {
   "cell_type": "markdown",
   "id": "3948aab0-22a8-43a7-8ebd-0e02bc2721ee",
   "metadata": {},
   "source": [
    "\\begin{equation} p + dp = p-\\frac{∂p}{∂x}\\frac{dx}{2} \\tag{17} \\end{equation}"
   ]
  },
  {
   "cell_type": "markdown",
   "id": "f72f08e8-38b6-4386-80af-7b03c8c73f6f",
   "metadata": {},
   "source": [
    "* Cara derecha"
   ]
  },
  {
   "cell_type": "markdown",
   "id": "64984de9-1979-4a6b-8fac-9ada76377545",
   "metadata": {},
   "source": [
    "\\begin{equation} p + dp = p+\\frac{∂p}{∂x}\\frac{dx}{2} \\tag{18} \\end{equation}"
   ]
  },
  {
   "cell_type": "markdown",
   "id": "12e37582-7403-403c-accf-f1142fa32b0f",
   "metadata": {},
   "source": [
    "Sumando las presiones para obtener su diferencial. Observe en la figura, que la presión de la cara derecha sería negativa porque está en sentido contrario al eje $x$"
   ]
  },
  {
   "cell_type": "markdown",
   "id": "fcf173c0-b032-4bb3-904e-99f783afba2a",
   "metadata": {},
   "source": [
    "\\begin{equation} \\left(p-\\frac{∂p}{∂x}\\frac{dx}{2}\\right) - \\left(P+\\frac{∂p}{∂x}\\frac{dx}{2}\\right) \\tag{19} \\end{equation}"
   ]
  },
  {
   "cell_type": "markdown",
   "id": "d9408fd0-333f-4c6c-bc15-2ba6106a08ad",
   "metadata": {},
   "source": [
    "De donde se obtiene que el diferencial de presión en el cubo infinitesimal es:"
   ]
  },
  {
   "cell_type": "markdown",
   "id": "e95e46ae-9ac3-437d-9e9e-1fa57ca6da4c",
   "metadata": {},
   "source": [
    "\\begin{equation} -\\frac{∂p}{∂x}{dx} \\tag{20} \\end{equation}"
   ]
  },
  {
   "cell_type": "markdown",
   "id": "d2169f2c-5ae9-4e2b-9a18-b4f66bc9bb24",
   "metadata": {},
   "source": [
    "Por teoría sabemos que $F=\\frac{P}{A}$, donde $F$ es fuerza, $P$ es presión y $A$ es área. En el cubo infinitesimal podemos decir (siguiendo el mismo proceso para los tres ejes) que:"
   ]
  },
  {
   "cell_type": "markdown",
   "id": "1a63a547-bdef-4d7c-9b3f-59970fca64c2",
   "metadata": {},
   "source": [
    "\\begin{equation} p_x = -\\frac{∂p}{∂x}{dx}{A_x} = -\\frac{∂p}{∂x}{dx}{dy}{dz} \\tag{21a} \\end{equation}\n",
    "\\begin{equation} p_y = -\\frac{∂p}{∂y}{dy}{A_y} = -\\frac{∂p}{∂y}{dx}{dy}{dz} \\tag{21b} \\end{equation}\n",
    "\\begin{equation} p_z = -\\frac{∂p}{∂z}{dz}{A_z} = -\\frac{∂p}{∂z}{dx}{dy}{dz} \\tag{21c} \\end{equation}"
   ]
  },
  {
   "cell_type": "markdown",
   "id": "4437b080-800b-4f12-963b-16f465e38a7a",
   "metadata": {},
   "source": [
    "Donde las áreas estan representadas por; $A_x = dydz$, $A_y = dxdz$ y $A_z = dxdy$"
   ]
  },
  {
   "cell_type": "markdown",
   "id": "bc9f6e8b-d22a-411c-9ef2-fad7c1262d36",
   "metadata": {
    "tags": []
   },
   "source": [
    "## 5. Efecto de la gravedad"
   ]
  },
  {
   "cell_type": "markdown",
   "id": "1908e567-289c-45cc-bb45-81217c3b7d9d",
   "metadata": {},
   "source": [
    "Si consideramos el peso, este tendrá influencia en el eje $z$ solamente (por la gravedad), siendo la ecuación:"
   ]
  },
  {
   "cell_type": "markdown",
   "id": "2b08c4d2-e125-4feb-80f8-10530c0efa85",
   "metadata": {},
   "source": [
    "\\begin{equation}  W = m.g  \\tag{22} \\end{equation}"
   ]
  },
  {
   "cell_type": "markdown",
   "id": "f6acaf74-76ff-4dd8-a46d-a0827c38d593",
   "metadata": {},
   "source": [
    "Donde; $W$ es el peso, $m$ es la masa y $g$ es la gravedad. Si la reescribimnos en su forma diferencial tenemos lo siguiente:"
   ]
  },
  {
   "cell_type": "markdown",
   "id": "c6ee4f5f-6bf1-4ddf-8e83-27d85b8f5e07",
   "metadata": {},
   "source": [
    "\\begin{equation} dW = -\\rho (dx dy dz)g \\tag{23} \\end{equation}"
   ]
  },
  {
   "cell_type": "markdown",
   "id": "696f3624-78a0-4ecb-b263-40d4046b56c5",
   "metadata": {},
   "source": [
    "En la ecuación _(23)_ el signo negativo esta referido a la dirección de la gravedad que va en sentido contrario a la dirección del eje $z$"
   ]
  },
  {
   "cell_type": "markdown",
   "id": "2d3aff97-1735-4708-95c6-821d1fbb0d04",
   "metadata": {
    "tags": []
   },
   "source": [
    "## 6. Esfuerzos Viscosos"
   ]
  },
  {
   "cell_type": "markdown",
   "id": "eb0d280e-bb1b-4a81-8d8a-8e0e08088d14",
   "metadata": {},
   "source": [
    "Estos esfuerzos tienen importancia en el flujo de fluidos. Asumamos que el flujo esta transitando solo en la dirección $x$, teniendo el mismo cubo infinitesimal estudiado previamente, tendremos el desarrollo de los esfuerzos viscosos (en $x$) como se muestra en la siguiente figura. Donde; la letras $E,W,N,S,T,B$ representan las caras del cubo y significan lo siguiente:\n",
    "* $E \\hspace{0.2cm} (East - Este)  $\n",
    "* $W \\hspace{0.2cm}(West-Oeste)  $\n",
    "* $N \\hspace{0.2cm}(North-Norte)  $\n",
    "* $S \\hspace{0.2cm}(South-Sur)  $\n",
    "* $T \\hspace{0.2cm}(Top-Arriba)  $\n",
    "* $B \\hspace{0.2cm}(Bottom-Abajo)$"
   ]
  },
  {
   "cell_type": "markdown",
   "id": "b38f32a9-7c8a-4632-9570-7be077779a8b",
   "metadata": {},
   "source": [
    "<center><img src=\"./imagenes/Esfuerzos.jpg\" width=\"400\"/></center>"
   ]
  },
  {
   "cell_type": "markdown",
   "id": "be27ce25-e0ef-4ded-add3-16ee5a46c857",
   "metadata": {},
   "source": [
    "Como se puede observar de la figura el esfuerzo cortante en el eje $x$ esta presente en las 6 caras del cubo infinitesimal. La obtención de cada ecuación del esfuerzo viscoso es mediante la serie de Taylor como lo desarrollamos para la presión $p$ en el capitulo _(4)_. El esfuerzo viscoso esta denotado por $\\tau$ y los subíndices $ij$ como $(\\tau_{xx},\\tau_{yx},\\tau_{zx})$ representan los esfuerzos viscosos en las caras del cubo."
   ]
  },
  {
   "cell_type": "markdown",
   "id": "83b80952-469f-4d44-924b-35d91c92ceee",
   "metadata": {},
   "source": [
    "El esfuerzo total del cubo infinitesimal es igual a la suma de los esfuerzos que actuan en las caras $E$ y $W$ teniendo lo siguiente:"
   ]
  },
  {
   "cell_type": "markdown",
   "id": "103f98d3-c1c9-4286-ab42-1bb36ff8a241",
   "metadata": {},
   "source": [
    "\\begin{equation} \\left (\\tau_{xx}+\\frac{∂\\tau_{xx}}{∂x} \\frac{1}{2}dx \\right ) - \\left(\\tau_{xx}-\\frac{∂\\tau_{xx}}{∂x} \\frac{1}{2}dx \\right) = \\frac{∂\\tau_{xx}}{∂x}dx \\tag{24a} \\end{equation}"
   ]
  },
  {
   "cell_type": "markdown",
   "id": "f7311e5b-9f8f-4a77-88e0-d445395a9cdb",
   "metadata": {},
   "source": [
    "Analogamente para las caras $N, S$ y las caras $T , B$ tenemos que:"
   ]
  },
  {
   "cell_type": "markdown",
   "id": "896394f7-2cb5-48b5-a625-854f43c03702",
   "metadata": {},
   "source": [
    "\\begin{equation} \\left (\\tau_{yx}+\\frac{∂\\tau_{yx}}{∂y} \\frac{1}{2}dy\\right) - \\left (\\tau_{yx}-\\frac{∂\\tau_{yx}}{∂y} \\frac{1}{2}dy\\right) = \\frac{∂\\tau_{yx}}{∂y}dy \\tag{24b} \\end{equation}\n",
    "\\begin{equation} \\left (\\tau_{zx}+\\frac{∂\\tau_{zx}}{∂z} \\frac{1}{2}dz\\right) - \\left (\\tau_{zx}-\\frac{∂\\tau_{zx}}{∂z} \\frac{1}{2}dz\\right) = \\frac{∂\\tau_{zx}}{∂z}dz \\tag{24c} \\end{equation}"
   ]
  },
  {
   "cell_type": "markdown",
   "id": "fd60c7fa-0416-42a3-9a90-bd1bc0458cf0",
   "metadata": {},
   "source": [
    "Como sabemos que la fuerza es igual a presión por área, $F=\\frac{P}{A}$; y el esfuerzo es la presión tangencial entonces podemos decir que $F=\\frac{\\tau}{A}$, por lo que podemos escribir la fuerza viscosa en el eje $x$ como la suma de todos los esfuerzos (ecuaciones _(24a)_, _(24b)_ y _(24c)_) multiplicado por las areas del cubo infinitesimal:"
   ]
  },
  {
   "cell_type": "markdown",
   "id": "b8b02464-fa13-45a3-86f9-5835c9175066",
   "metadata": {},
   "source": [
    "\\begin{equation} f_x = \\frac{∂\\tau_{xx}}{∂x}dxdydz +\\frac{∂\\tau_{yx}}{∂y}dxdydz+\\frac{∂\\tau_{zx}}{∂z}dxdydz \\tag{25a} \\end{equation}"
   ]
  },
  {
   "cell_type": "markdown",
   "id": "8c8cf631-34c7-4222-b807-3557eafb007f",
   "metadata": {},
   "source": [
    "Si desarrollamos el mismo proceso para los ejes $y$ y $z$ tendremos lo siguiente:"
   ]
  },
  {
   "cell_type": "markdown",
   "id": "631ae2a6-60a8-4718-b33b-7fd258821a7f",
   "metadata": {},
   "source": [
    "\\begin{equation} f_y = \\frac{∂\\tau_{xy}}{∂x}dxdydz +\\frac{∂\\tau_{yy}}{∂y}dxdydz+\\frac{∂\\tau_{zy}}{∂z}dxdydz \\tag{25b} \\end{equation}\n",
    "\\begin{equation} f_z = \\frac{∂\\tau_{zx}}{∂x}dxdydz +\\frac{∂\\tau_{yz}}{∂y}dxdydz+\\frac{∂\\tau_{zz}}{∂z}dxdydz \\tag{25c} \\end{equation}"
   ]
  },
  {
   "cell_type": "markdown",
   "id": "fa1dda0d-901f-4f04-a364-afb6c46f4a4b",
   "metadata": {
    "tags": []
   },
   "source": [
    "## 7. Segunda Ley de Newton para un flujo de fluidos"
   ]
  },
  {
   "cell_type": "markdown",
   "id": "d8d7e7e9-dd3b-4cee-a969-2f6164a86fb3",
   "metadata": {},
   "source": [
    "Recordando la ecuación de la segunda ley de newton es:"
   ]
  },
  {
   "cell_type": "markdown",
   "id": "a66250fc-34b2-4502-a6fd-02af51a2a1ab",
   "metadata": {},
   "source": [
    "\\begin{equation*} m.a = F_p  + W + F_v + S \\tag{26} \\end{equation*}"
   ]
  },
  {
   "cell_type": "markdown",
   "id": "0e01b2ff-7744-4b73-8c08-4568b41ef1f2",
   "metadata": {},
   "source": [
    "Recordar que:"
   ]
  },
  {
   "cell_type": "markdown",
   "id": "a7351463-c820-4f4f-83d1-b7d01082bc99",
   "metadata": {},
   "source": [
    "\\begin{equation} \\rho = \\frac{m}{Vol} \\tag{27} \\end{equation}"
   ]
  },
  {
   "cell_type": "markdown",
   "id": "cbd86d3e-7e92-4e1e-a90f-37705faff69f",
   "metadata": {},
   "source": [
    "Reemplazando en su forma diferencial, sabiendo que $Vol = dxdydz$ tenemos:"
   ]
  },
  {
   "cell_type": "markdown",
   "id": "4632e628-eebe-4f7e-948d-d6c8e3dada87",
   "metadata": {},
   "source": [
    "\\begin{equation} m = \\rho dxdydz \\tag{28} \\end{equation}"
   ]
  },
  {
   "cell_type": "markdown",
   "id": "e497c304-acc7-4cb6-b0a8-883b351d9203",
   "metadata": {},
   "source": [
    "Ahora reemplazamos todo lo que hemos desarrollado para tener la misma expresión que  la ecuación _(26)_ pero referido a un flujo de fluidos."
   ]
  },
  {
   "cell_type": "markdown",
   "id": "8bfc3886-e6ee-474d-842f-aa339384a436",
   "metadata": {},
   "source": [
    "\\begin{equation} \\rho (dxdydz) \\left(\\frac{∂V_x}{∂x}V_x+\\frac{∂V_x}{∂y}V_y+\\frac{∂V_x}{∂z}V_z+\\frac{∂V_x}{∂t} \\right) = \\left(-\\frac{∂p}{∂x}{dx}{dy}{dz}\\right)+  \\left(-\\rho (dx dy dz)g_x\\right)+\\left(\\frac{∂\\tau_{xx}}{∂x} +\\frac{∂\\tau_{yx}}{∂y}+\\frac{∂\\tau_{zx}}{∂z}\\right)dxdydz+S_x(dxdydz) \\tag{29}  \\end{equation}"
   ]
  },
  {
   "cell_type": "markdown",
   "id": "b2550493-e1a6-4c97-bdf2-ed5fc26da586",
   "metadata": {},
   "source": [
    "Tener presente que; $S_x(dxdydz)$ son las fuerzas volumetricas adicionales (coriolis, centrífuga, electromagnética) que pueden existir en el flujo de fluidos, en caso no se considere su valor será cero."
   ]
  },
  {
   "cell_type": "markdown",
   "id": "df2ddab1-6c9b-4692-99c1-712f73183d09",
   "metadata": {},
   "source": [
    "Si a la ecuación _(29)_ la dividimos entre el volumen _(dxdydz)_, obtendremos para sus tres ejes las siguientes expresiones:"
   ]
  },
  {
   "cell_type": "markdown",
   "id": "6acb84e2-f638-48d4-8cca-7176569cfbfa",
   "metadata": {},
   "source": [
    "\\begin{equation} \\rho \\left(\\frac{∂V_x}{∂x}V_x+\\frac{∂V_x}{∂y}V_y+\\frac{∂V_x}{∂z}V_z+\\frac{∂V_x}{∂t} \\right) = -\\frac{∂p}{∂x} -\\rho g_x+\\left(\\frac{∂\\tau_{xx}}{∂x} +\\frac{∂\\tau_{yx}}{∂y}+\\frac{∂\\tau_{zx}}{∂z}\\right)+S_x \\tag{30a}  \\end{equation}\n",
    "\\begin{equation} \\rho \\left(\\frac{∂V_y}{∂x}V_x+\\frac{∂V_y}{∂y}V_y+\\frac{∂V_y}{∂z}V_z+\\frac{∂V_y}{∂t} \\right) = -\\frac{∂p}{∂y} -\\rho g_y+\\left(\\frac{∂\\tau_{xy}}{∂x} +\\frac{∂\\tau_{yy}}{∂y}+\\frac{∂\\tau_{zy}}{∂z}\\right)+S_y \\tag{30b}  \\end{equation}\n",
    "\\begin{equation} \\rho \\left(\\frac{∂V_z}{∂x}V_z+\\frac{∂V_z}{∂y}V_z+\\frac{∂V_z}{∂z}V_z+\\frac{∂V_z}{∂t} \\right) = -\\frac{∂p}{∂z} -\\rho g_z+\\left(\\frac{∂\\tau_{xz}}{∂x} +\\frac{∂\\tau_{yz}}{∂y}+\\frac{∂\\tau_{zz}}{∂z}\\right)+S_z \\tag{30c}  \\end{equation}"
   ]
  },
  {
   "cell_type": "markdown",
   "id": "cb3df7ac-a236-4a8a-8b54-cd56819aaceb",
   "metadata": {
    "tags": []
   },
   "source": [
    "## 8. Esfuerzo Cortante en función de la viscosidad"
   ]
  },
  {
   "cell_type": "markdown",
   "id": "dad2481c-fd06-4aeb-956a-0ef76d44c080",
   "metadata": {},
   "source": [
    "Si tenemos un flujo de agua como se muestra en la figura y se aplica un presión constante en la parte superior, este se deformará continuamente."
   ]
  },
  {
   "cell_type": "markdown",
   "id": "3d0790a1-0e2c-4c3b-b8ea-8550abc05a65",
   "metadata": {},
   "source": [
    "<center><img src=\"./imagenes/Esfuerzo cortante.jpg\" width=\"400\"/></center>"
   ]
  },
  {
   "cell_type": "markdown",
   "id": "fc6bd402-f759-4309-a1e4-b945286bfbfc",
   "metadata": {},
   "source": [
    "Para un fluido Newtoniano como el agua y el aire se puede representar el esfuerzo cortante como:"
   ]
  },
  {
   "cell_type": "markdown",
   "id": "0b87c458-4fa4-4238-b14d-70a4c9361d44",
   "metadata": {},
   "source": [
    "\\begin{equation} \\tau_{x} = \\mu  \\frac{∂V_x}{∂y} \\tag{31} \\end{equation}"
   ]
  },
  {
   "cell_type": "markdown",
   "id": "2024b3a4-85b8-441d-872f-d0da98cf6b53",
   "metadata": {},
   "source": [
    "Si analizamos en el sentido del eje $y$, tendremos la siguiente ecuación:"
   ]
  },
  {
   "cell_type": "markdown",
   "id": "44ddfa2a-a0dc-436b-af57-9f2a6203543a",
   "metadata": {},
   "source": [
    "\\begin{equation} \\tau_{y} = \\mu \\frac{∂V_y}{∂x} \\tag{32} \\end{equation}"
   ]
  },
  {
   "cell_type": "markdown",
   "id": "4fd7be64-42f3-4aa4-83f1-6a951d96bde7",
   "metadata": {},
   "source": [
    "Donde:\n",
    "* $\\mu$; viscosidad dinámica\n",
    "* $\\tau_{x}$; esfuerzo cortante en $x$\n",
    "* $\\tau_{y}$; esfuerzo cortante en $y$\n",
    "* $V_x$; Velocidad en dirección $x$\n",
    "* $V_y$; Velocidad en dirección $y$"
   ]
  },
  {
   "cell_type": "markdown",
   "id": "f36381ff-7594-47ec-8930-854f48e688d9",
   "metadata": {},
   "source": [
    "Asi también los esfuerzos cortantes $\\tau_{xy}$ y $\\tau_{yx}$ son iguales en magnitud pero en sentido diferente como se muestra en la siguiente figura:"
   ]
  },
  {
   "cell_type": "markdown",
   "id": "56a84039-913d-4295-8230-ee6dd1d11001",
   "metadata": {},
   "source": [
    "<center><img src=\"./imagenes/Esfuerzo cortante2.jpg\" width=\"400\"/></center>"
   ]
  },
  {
   "cell_type": "markdown",
   "id": "90952075-23c2-466a-a06e-99370e1da5b9",
   "metadata": {},
   "source": [
    "Lo mismo acontece para los demás esfuerzos cortantes siendo sus igualdades las siguientes; $\\tau_{xy}$ = $\\tau_{yx}$, $\\tau_{yz}$ = $\\tau_{zy}$ y $\\tau_{xz}$ = $\\tau_{zx}$. Entonces los esfuerzos cortantes aplicados en cada cara serían:"
   ]
  },
  {
   "cell_type": "markdown",
   "id": "81aadd49-5b24-4a1d-bfc5-ef2275d4e6eb",
   "metadata": {},
   "source": [
    "\\begin{equation} \\tau_{xy} = \\tau_{yx} = \\mu \\left(\\frac{∂V_x}{∂y} + \\frac{∂V_y}{∂x}\\right) \\tag{33a} \\end{equation}\n",
    "\\begin{equation} \\tau_{yz} = \\tau_{zy} = \\mu \\left(\\frac{∂V_y}{∂z} + \\frac{∂V_z}{∂y}\\right) \\tag{33b} \\end{equation}\n",
    "\\begin{equation} \\tau_{zx} = \\tau_{xz} = \\mu \\left(\\frac{∂V_z}{∂x} + \\frac{∂V_x}{∂z}\\right) \\tag{33c} \\end{equation}"
   ]
  },
  {
   "cell_type": "markdown",
   "id": "624f2548-8b9d-41fe-8303-1af3b23a9415",
   "metadata": {},
   "source": [
    "Para encontrar las ecuaciones de $\\tau_{xx}$,  $\\tau_{yy}$ y  $\\tau_{zz}$, debemos hallar una relación entre las tensiones normales y el campo de velocidades. Observa la siguiente figura. El punto $A$ está fijo, sin embargo si el cuerpo de deforma, el punto $A$ se mueve a una nueva ubicación $A'$. Si definimos ese desplazamiento como $S$, entonces lo podemos escribir como:"
   ]
  },
  {
   "cell_type": "markdown",
   "id": "f8d697d2-f299-41bd-88d8-27298d30995c",
   "metadata": {},
   "source": [
    "\\begin{equation} S = S_x \\hat{i} + S_y \\hat{j}+ S_z \\hat{k} \\tag{34} \\end{equation} "
   ]
  },
  {
   "cell_type": "markdown",
   "id": "27e13902-7298-4f2c-84a0-2ed92ba98715",
   "metadata": {},
   "source": [
    "<center><img src=\"./imagenes/Deformacion.gif\" width=\"400\"/></center>"
   ]
  },
  {
   "cell_type": "markdown",
   "id": "1ab9a26d-c7cf-4845-ad3e-94da14e32c9f",
   "metadata": {},
   "source": [
    "Podemos describir las deformaciones normales del volumen de la figura como:"
   ]
  },
  {
   "cell_type": "markdown",
   "id": "d0c8cf6d-3bdb-4466-9475-bf096b692191",
   "metadata": {},
   "source": [
    "\\begin{equation}  \\varepsilon_{xx} =  \\frac{∂S_x}{∂x} \\tag{35a} \\end{equation}\n",
    "\\begin{equation}  \\varepsilon_{yy} =  \\frac{∂S_y}{∂y} \\tag{35b} \\end{equation}\n",
    "\\begin{equation}  \\varepsilon_{zz} =  \\frac{∂S_z}{∂z} \\tag{35c} \\end{equation}"
   ]
  },
  {
   "cell_type": "markdown",
   "id": "0022e923-769d-43ac-86f5-6a9b5d9feac8",
   "metadata": {},
   "source": [
    "Suponiendo que se trate de una deformación pequeña podemos escribir las ecuaciones en función de la deformación normal y las tensiones normales siendo las siguientes:"
   ]
  },
  {
   "cell_type": "markdown",
   "id": "23ad0282-d543-4e5f-8f21-7844e18f2f4b",
   "metadata": {},
   "source": [
    "\\begin{equation}  \\varepsilon_{xx} =  \\frac{1}{E} \\left[ \\sigma_{xx} - \\nu_p \\left( \\sigma_{yy}+\\sigma_{zz}   \\right)  \\right] \\tag{36a} \\end{equation}\n",
    "\\begin{equation}  \\varepsilon_{yy} =  \\frac{1}{E} \\left[ \\sigma_{yy} - \\nu_p \\left( \\sigma_{xx}+\\sigma_{zz}   \\right)  \\right] \\tag{36b} \\end{equation}\n",
    "\\begin{equation}  \\varepsilon_{zz} =  \\frac{1}{E} \\left[ \\sigma_{zz} - \\nu_p \\left( \\sigma_{xx}+\\sigma_{yy}   \\right)  \\right] \\tag{36c} \\end{equation}"
   ]
  },
  {
   "cell_type": "markdown",
   "id": "e45447a2-d09f-40d8-ac43-e50573854f89",
   "metadata": {},
   "source": [
    "Donde:\n",
    "* $E$; Modulo de elasticidad de Young\n",
    "* $\\varepsilon$; Deformación normal\n",
    "* $\\sigma$; Esfuerzo normal\n",
    "* $\\nu_p$; Coeficiente de Poisson"
   ]
  },
  {
   "cell_type": "markdown",
   "id": "6dd2ba6d-9895-40ed-825a-3a40edf0b2f4",
   "metadata": {},
   "source": [
    "Si sumamos las ecuaciones (36a), (36b) y (36c) tenemos la siguiente expresión:"
   ]
  },
  {
   "cell_type": "markdown",
   "id": "db2019ff-5ebb-4748-bcc8-6958fb7a33c7",
   "metadata": {},
   "source": [
    "\\begin{equation} \\varepsilon_{xx} + \\varepsilon_{yy} + \\varepsilon_{zz} = \\frac{1-2\\nu_p}{E} \\left( \\sigma_{xx}+\\sigma_{yy} +\\sigma_{zz}    \\right) \\tag{36d} \\end{equation}"
   ]
  },
  {
   "cell_type": "markdown",
   "id": "4728056d-2b99-429d-a528-bd3266082486",
   "metadata": {},
   "source": [
    "También podemos relacionar el módulo de elasticidad de Young y el coeficiencite de Poisson con el módulo de elasticidad tangencial $G$ con la siguiente expresión:"
   ]
  },
  {
   "cell_type": "markdown",
   "id": "e253ad19-e03f-4d46-b45a-9c0deb901eb0",
   "metadata": {},
   "source": [
    "\\begin{equation} G= \\frac{E}{2\\left( 1+\\nu_p \\right)} \\tag{37} \\end{equation}"
   ]
  },
  {
   "cell_type": "markdown",
   "id": "da94805a-1a26-4f52-a5e4-0c675b7bc0fa",
   "metadata": {},
   "source": [
    "Además el esfuerzo normal total puede ser representado por la siguiente ecuación:"
   ]
  },
  {
   "cell_type": "markdown",
   "id": "70a863e8-02bd-4944-b760-79118bf1a1d5",
   "metadata": {},
   "source": [
    "\\begin{equation}   \\bar{\\sigma} = \\frac{\\sigma_{xx} + \\sigma_{yy} + \\sigma_{zz}}{3} \\tag{38} \\end{equation}"
   ]
  },
  {
   "cell_type": "markdown",
   "id": "7b9f41d4-ec1d-4186-9af8-f9c3cd7011cb",
   "metadata": {},
   "source": [
    "Reemplazando la ecuación (38) en (36d):"
   ]
  },
  {
   "cell_type": "markdown",
   "id": "8a91040f-f0b3-4381-845d-6161764744f7",
   "metadata": {},
   "source": [
    "\\begin{equation} \\varepsilon_{xx} + \\varepsilon_{yy} + \\varepsilon_{zz} = \\frac{∂S_x}{∂x} + \\frac{∂S_y}{∂y} + \\frac{∂S_z}{∂z} = \\nabla .S = \\frac{1-2\\nu_p}{E} \\left( 3 \\bar{\\sigma}  \\right) \\tag{39} \\end{equation}"
   ]
  },
  {
   "cell_type": "markdown",
   "id": "35022a4f-08d9-49f2-8ab7-74750cd9c537",
   "metadata": {},
   "source": [
    "De la ecuación (35a) y (36a) podemos escribirla de la siguiente forma:"
   ]
  },
  {
   "cell_type": "markdown",
   "id": "e2568e46-74b1-4d64-909f-ef1c3049248f",
   "metadata": {},
   "source": [
    "\\begin{equation}  \\varepsilon_{xx} = \\frac{∂S_x}{∂x} =  \\frac{1}{E} \\left[ \\sigma_{xx} - \\nu_p \\left( \\sigma_{yy}+\\sigma_{zz}   \\right)  \\right] \\tag{40} \\end{equation}"
   ]
  },
  {
   "cell_type": "markdown",
   "id": "2dbb5090-31dd-43e8-8197-bb855331d435",
   "metadata": {},
   "source": [
    "Reemplazando la Ecuación (38) en la (36a) tenemos:"
   ]
  },
  {
   "cell_type": "markdown",
   "id": "256bb4a6-2b6c-4999-9785-be2f7acc0533",
   "metadata": {},
   "source": [
    "\\begin{equation} \\frac{∂S_x}{∂x} =  \\frac{1}{E} \\left[ \\sigma_{xx} - \\nu_p \\left( 3 \\bar{\\sigma} - \\sigma_{xx}   \\right)  \\right] \\tag{41} \\end{equation}"
   ]
  },
  {
   "cell_type": "markdown",
   "id": "f0b463be-0bf0-444d-9cb1-0666bbedf3c6",
   "metadata": {},
   "source": [
    "\\begin{equation} E \\frac{∂S_x}{∂x} +  3 \\bar{\\sigma} \\nu_p =    \\sigma_{xx}  \\left( 1+ \\nu_p   \\right)  \\tag{42} \\end{equation}"
   ]
  },
  {
   "cell_type": "markdown",
   "id": "af4f0d66-8900-4f02-b2a5-72b0e84d1d48",
   "metadata": {},
   "source": [
    "Reemplazando la ecuación (37) en la ecuación (42) tenemos lo siguiente:"
   ]
  },
  {
   "cell_type": "markdown",
   "id": "6790e32e-6bfd-4b10-889e-15a39ff5ac9f",
   "metadata": {},
   "source": [
    "\\begin{equation} 2G \\frac{∂S_x}{∂x} +  \\frac{3\\bar{\\sigma} \\nu_p}{\\left(1+\\nu_p\\right)} =    \\sigma_{xx} \\tag{43} \\end{equation}"
   ]
  },
  {
   "cell_type": "markdown",
   "id": "4a7e4c9a-e123-4c9d-8878-481a3ce0d865",
   "metadata": {},
   "source": [
    "Podemos reescribir la ecuación (43) como:"
   ]
  },
  {
   "cell_type": "markdown",
   "id": "454135d2-759a-44fb-bf34-d55c14a9eaf4",
   "metadata": {},
   "source": [
    "\\begin{equation} 2G \\frac{∂S_x}{∂x} +  G\\frac{-2}{3} \\nabla.S+\\bar{\\sigma} =    \\sigma_{xx} \\tag{44} \\end{equation}"
   ]
  },
  {
   "cell_type": "markdown",
   "id": "734ba965-a03a-4a9e-b8a2-e74a32b1e25e",
   "metadata": {},
   "source": [
    "Pues tendremos la siguiente igualdad:"
   ]
  },
  {
   "cell_type": "markdown",
   "id": "767039e3-3e6a-449f-8170-651e5393af28",
   "metadata": {},
   "source": [
    "\\begin{equation} \\frac{3\\bar{\\sigma} \\nu_p}{\\left(1+\\nu_p\\right)} = G\\frac{-2}{3} \\nabla.S+\\bar{\\sigma} \\tag{45} \\end{equation} "
   ]
  },
  {
   "cell_type": "markdown",
   "id": "7ffaabc7-e509-4ad1-8c3d-48dae280b03c",
   "metadata": {},
   "source": [
    "Resolviendo la ecuación (45) nos quedará lo siguiente:"
   ]
  },
  {
   "cell_type": "markdown",
   "id": "52043c8b-3919-4ab9-99d0-6eef10621071",
   "metadata": {},
   "source": [
    "\\begin{equation} 3\\bar{\\sigma} = \\frac{E \\nabla.S}{\\left( 1-2\\nu_p \\right)} \\tag{46} \\end{equation}"
   ]
  },
  {
   "cell_type": "markdown",
   "id": "6050d78b-d63c-4e17-8d17-561ab612ff31",
   "metadata": {},
   "source": [
    "Donde la ecuación (46) representa la igualdad vista en la ecuación (39), por lo que la ecuación (44) es correcta. Si factorizamos la ecuación (44) tendremos:"
   ]
  },
  {
   "cell_type": "markdown",
   "id": "500027d7-9157-47ed-8b99-0187ab250bda",
   "metadata": {},
   "source": [
    "\\begin{equation} G \\left( 2\\frac{∂S_x}{∂x} -  \\frac{2}{3} \\nabla.S \\right)+\\bar{\\sigma} =    \\sigma_{xx} \\tag{47} \\end{equation}"
   ]
  },
  {
   "cell_type": "markdown",
   "id": "e9ae613c-bd0d-44be-9169-1c38634c754a",
   "metadata": {},
   "source": [
    "Haciendo un símilil para los fluidos reemplazamos la elasticidad tangencial $G$ por la viscosidad dinámica $\\mu$ y los componentes de desplazamiento $S$ por la velocidad $V$ teniendo finalmente las siguientes expresiones para los tres ejes de los componentes de las tensiones normales."
   ]
  },
  {
   "cell_type": "markdown",
   "id": "fbb07cef-a1b0-4f9d-8e97-8a1ca5a8129b",
   "metadata": {},
   "source": [
    "\\begin{equation} \\sigma_{xx} = \\mu \\left[ 2\\frac{∂V_x}{∂x} - \\frac{2}{3} \\left(  \\frac{∂V_x}{∂x} +\\frac{∂V_y}{∂y}+\\frac{∂V_y}{∂y}\\right)    \\right] + \\bar{\\sigma} \\tag{48a} \\end{equation}\n",
    "\\begin{equation} \\sigma_{yy} = \\mu \\left[ 2\\frac{∂V_y}{∂y} - \\frac{2}{3} \\left(  \\frac{∂V_x}{∂x} +\\frac{∂V_y}{∂y}+\\frac{∂V_y}{∂y}\\right)    \\right] + \\bar{\\sigma} \\tag{48b} \\end{equation}\n",
    "\\begin{equation} \\sigma_{zz} = \\mu \\left[ 2\\frac{∂V_z}{∂z} - \\frac{2}{3} \\left(  \\frac{∂V_x}{∂x} +\\frac{∂V_y}{∂y}+\\frac{∂V_y}{∂y}\\right)    \\right] + \\bar{\\sigma} \\tag{48c}  \\end{equation}"
   ]
  },
  {
   "cell_type": "markdown",
   "id": "a422a708-bc4c-434d-afdf-60e44eec5c5c",
   "metadata": {},
   "source": [
    "Si consideramos un fluido incompresible entonces tenemos que:"
   ]
  },
  {
   "cell_type": "markdown",
   "id": "a3f5b9b0-d1f9-4085-8b30-ede1e278c45f",
   "metadata": {},
   "source": [
    "\\begin{equation} \\nabla.V = \\frac{∂V_x}{∂x}+\\frac{∂V_y}{∂y}+\\frac{∂V_z}{∂z} = 0 \\tag{49} \\end{equation}"
   ]
  },
  {
   "cell_type": "markdown",
   "id": "ef33521d-68ec-422f-b3a3-de28102c18bd",
   "metadata": {},
   "source": [
    "A la ecuación (49) se le conoce como divergente de la velocidad. Esta ecuación representa el cambio de la velocidad respecto a una posición $(x ,y , z)$. Si este valor es negativo entonces podemos afirmar que existe un sumidero, por otro lado si el valor es mayor a cero entonces existe una fuente. Para estos casos habrá una compresibilidad del flujo porque el caudal que ingresa será diferente al caudal que sale (siendo iguales los flujos másicos), eso significa que la densidad estará variando. No obstante, si el valor es igual a cero entonces el flujo másico y caudal que entra es igual al que sale por lo que la densidad será constante siendo el flujo incompresible $\\nabla.V = 0$"
   ]
  },
  {
   "cell_type": "markdown",
   "id": "b0ab4911-07c1-4c8d-8030-6f5f0d1baeab",
   "metadata": {},
   "source": [
    "Los esfuerzos normales para un fluido incompresible serían los siguientes:"
   ]
  },
  {
   "cell_type": "markdown",
   "id": "7d60b153-9bb9-402f-88e1-7c48956fef35",
   "metadata": {},
   "source": [
    "\\begin{equation} \\sigma_{xx} = 2\\mu  \\frac{∂V_x}{∂x} + \\bar{\\sigma} \\tag{50a} \\end{equation}\n",
    "\\begin{equation} \\sigma_{yy} = 2\\mu  \\frac{∂V_y}{∂y} + \\bar{\\sigma} \\tag{50b} \\end{equation}\n",
    "\\begin{equation} \\sigma_{zz} = 2\\mu  \\frac{∂V_z}{∂z} + \\bar{\\sigma} \\tag{50c} \\end{equation}"
   ]
  },
  {
   "cell_type": "markdown",
   "id": "25ca5aeb-34ed-4f12-ab69-ebb8242a7da8",
   "metadata": {},
   "source": [
    "Si expresamos las mismas ecuaciones en función de los esfuerzos viscosos tenemos que:"
   ]
  },
  {
   "cell_type": "markdown",
   "id": "dd310d11-8c05-4c40-87dc-7c895b44b19f",
   "metadata": {},
   "source": [
    "\\begin{equation} \\tau_{xx} = 2\\mu  \\frac{∂V_x}{∂x} \\tag{51a} \\end{equation}\n",
    "\\begin{equation} \\tau_{yy} = 2\\mu  \\frac{∂V_y}{∂y} \\tag{51b} \\end{equation}\n",
    "\\begin{equation} \\tau_{zz} = 2\\mu  \\frac{∂V_z}{∂z} \\tag{51c} \\end{equation}"
   ]
  },
  {
   "cell_type": "markdown",
   "id": "45189478-a27b-48b8-998b-56df32c49c07",
   "metadata": {},
   "source": [
    "Reemplazando las ecuaciones (51a) y (33a) en la ecuación (30a) respectivamente, tendremos la siguiente ecuación:"
   ]
  },
  {
   "cell_type": "markdown",
   "id": "f8ede52b-9ef6-41c7-95fa-7a3c5f315a15",
   "metadata": {},
   "source": [
    "\\begin{equation} \\rho \\left(\\frac{∂V_x}{∂t} + \\frac{∂V_x}{∂x}V_x+\\frac{∂V_x}{∂y}V_y+\\frac{∂V_x}{∂z}V_z \\right) = -\\frac{∂p}{∂x} -\\rho g_x+\\frac{∂}{∂x} \\left( 2\\mu \\frac{∂V_x}{∂x} \\right)+ \\frac{∂}{∂y} \\mu \\left(\\frac{∂V_x}{∂y} + \\frac{∂V_y}{∂x}\\right) +\\frac{∂}{∂z} \\mu \\left(\\frac{∂V_x}{∂z} + \\frac{∂V_z}{∂x}\\right) +S_x \\tag{52}  \\end{equation}"
   ]
  },
  {
   "cell_type": "markdown",
   "id": "0cc782db-6f77-486e-b0cf-10769ab619bc",
   "metadata": {},
   "source": [
    "\\begin{equation} \\rho \\left(\\frac{∂V_x}{∂t} + \\frac{∂V_x}{∂x}V_x+\\frac{∂V_x}{∂y}V_y+\\frac{∂V_x}{∂z}V_z \\right) = -\\frac{∂p}{∂x} -\\rho g_x+ \\mu \\left( \\frac{∂^2 V_x}{∂x^2} + \\frac{∂^2 V_y}{∂y^2} +\\frac{∂^2 V_z}{∂z^2}\\right) + \\mu \\frac{∂}{∂x} \\left( \\frac{∂V_x}{∂x}  +\\frac{∂V_y}{∂y}+\\frac{∂V_z}{∂z} \\right) + S_x \\tag{53}  \\end{equation}"
   ]
  },
  {
   "cell_type": "markdown",
   "id": "2487f20b-163b-4ed6-84cc-7abef247886b",
   "metadata": {},
   "source": [
    "\\begin{equation} \\rho \\left(\\frac{∂V_x}{∂t} + \\frac{∂V_x}{∂x}V_x+\\frac{∂V_x}{∂y}V_y+\\frac{∂V_x}{∂z}V_z \\right) = -\\frac{∂p}{∂x} -\\rho g_x+ \\mu \\nabla^2V_x + \\mu \\frac{∂}{∂x} \\left( \\nabla.V \\right) + S_x \\tag{54}  \\end{equation}"
   ]
  },
  {
   "cell_type": "markdown",
   "id": "44f49ecf-6e3e-4081-bf69-6141fa6cd1e1",
   "metadata": {},
   "source": [
    "Para flujo incompresible sin considerar fuerzas externas:"
   ]
  },
  {
   "cell_type": "markdown",
   "id": "5114d1bb-9b40-4ad2-97e1-adf08454d2ed",
   "metadata": {},
   "source": [
    "\\begin{equation} \\rho \\left(\\frac{∂V_x}{∂t} + \\frac{∂V_x}{∂x}V_x+\\frac{∂V_x}{∂y}V_y+\\frac{∂V_x}{∂z}V_z \\right) = -\\frac{∂p}{∂x} -\\rho g_x+ \\mu \\nabla^2V_x \\tag{55a}  \\end{equation}\n",
    "\\begin{equation} \\rho \\left(\\frac{∂V_y}{∂t} + \\frac{∂V_y}{∂x}V_x+\\frac{∂V_y}{∂y}V_y+\\frac{∂V_y}{∂z}V_z \\right) = -\\frac{∂p}{∂y} -\\rho g_y+ \\mu \\nabla^2V_y \\tag{55b}  \\end{equation}\n",
    "\\begin{equation} \\rho \\left(\\frac{∂V_z}{∂t} + \\frac{∂V_z}{∂x}V_x+\\frac{∂V_z}{∂y}V_y+\\frac{∂V_z}{∂z}V_z \\right) = -\\frac{∂p}{∂z} -\\rho g_z+ \\mu \\nabla^2V_z \\tag{55c}  \\end{equation}"
   ]
  },
  {
   "cell_type": "markdown",
   "id": "97eeb72b-7115-47bf-b0eb-9ec01e94145a",
   "metadata": {},
   "source": []
  }
 ],
 "metadata": {
  "kernelspec": {
   "display_name": "Python 3 (ipykernel)",
   "language": "python",
   "name": "python3"
  },
  "language_info": {
   "codemirror_mode": {
    "name": "ipython",
    "version": 3
   },
   "file_extension": ".py",
   "mimetype": "text/x-python",
   "name": "python",
   "nbconvert_exporter": "python",
   "pygments_lexer": "ipython3",
   "version": "3.9.13"
  }
 },
 "nbformat": 4,
 "nbformat_minor": 5
}
