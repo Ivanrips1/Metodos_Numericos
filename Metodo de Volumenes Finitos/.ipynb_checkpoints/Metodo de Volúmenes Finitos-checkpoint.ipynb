{
 "cells": [
  {
   "cell_type": "markdown",
   "id": "bc0165f7-09e1-47fa-a629-7984a9439def",
   "metadata": {},
   "source": [
    "# Método de Volúmenes Finitos para problemas de difusión1"
   ]
  },
  {
   "cell_type": "markdown",
   "id": "0047c6dc-838f-43bb-805f-ec3c473dfe5e",
   "metadata": {},
   "source": [
    "Los problemas de difusión son los más simples de aplicar para entender como funciona el método de volumenes finitos (FVM). En este documento vamos a plasmar paso a paso como se resuelve un problema de difusión en 1D en una barra, aplicando el método de volumenes finitos. "
   ]
  },
  {
   "cell_type": "markdown",
   "id": "c3c84ff3-93ce-44ed-96c7-cb6f4e8c6c87",
   "metadata": {},
   "source": [
    "En presente documento, esta basado en el libro *An Introduction to Computational Fluid Dynamics THE FINITE VOLUME METHOD* de Versteeg - Malalasekera (2da edición)."
   ]
  },
  {
   "cell_type": "markdown",
   "id": "a446f171-f05f-4b43-9193-3a77519b5f8b",
   "metadata": {},
   "source": [
    "Consideremos el espesor de una pared donde en sus extremos, tenemos las propiedades $\\phi_A$ y $\\phi_B$ (están propiedades más adelante serán las temperaturas de cada extremo). Para poder aplicar el método de volúmenes finitos debemos dividir el espesor en pequeños tramos iguales. Por ejemplo, en la imagen que se muestra a continuación el espesor se ha dividido en 6 espacios considerando 5 puntos internos.\n",
    "Nosotros calcularemos la propiedad $\\phi$ en cada punto interno al cual se le denominará $P$, siendo sus puntos vecinos W (west) y E (east). Nótese que la distancia entre A y W, asi como la distancia entre B y su punto anterior son la mitad de las ditancias internas."
   ]
  },
  {
   "cell_type": "markdown",
   "id": "25def94f-1b35-4cdb-860d-e762d279eccf",
   "metadata": {},
   "source": [
    "<center><img src=\"./imagenes/imagen1.jpg\" width=\"600\"/> </center>"
   ]
  },
  {
   "cell_type": "markdown",
   "id": "f65ae440-cb82-42bb-97da-6b71486a2610",
   "metadata": {},
   "source": [
    "Para este problema a desarrollar, consideremos difusión en estado estacionario en una dimensión (1D) de una propiedad $\\phi$, donde su ecuación estaría definida por:"
   ]
  },
  {
   "cell_type": "markdown",
   "id": "0804d7d9-c72d-4955-abff-c2ea4354ac0c",
   "metadata": {},
   "source": [
    "\\begin{equation} \\frac{d}{dx} \\left( \\Gamma \\frac{d\\phi}{dx} \\right) +S = 0 \\tag{1} \\end{equation}"
   ]
  },
  {
   "cell_type": "markdown",
   "id": "dfa1bebf-12c7-48f1-bc3a-a76013a0882b",
   "metadata": {},
   "source": [
    "Donde $\\Gamma$ es el coeficiente de difusión y $S$ es el término fuente. Los valores de $\\phi$ en los puntos A y B son las condiciones de frontera para este caso."
   ]
  },
  {
   "cell_type": "markdown",
   "id": "facd098d-fcda-4760-ba2c-2b0a9adbfff2",
   "metadata": {},
   "source": [
    "## 1. Generación de la Malla"
   ]
  },
  {
   "cell_type": "markdown",
   "id": "f2b23677-5cd6-49c8-9a10-b12da9d9b667",
   "metadata": {},
   "source": [
    "Si analizamos en punto $P$ de la figura anterior, observamos que sus vecinos W y E (mayúscula) son puntos consecutivos al punto $P$. Así mismo, para poder generar la malla debemos definir puntos intermedios entre $WP$ y $PE$, que son los puntos $w$ y $e$ (minúscula), como se aprecia en la siguiente imagen."
   ]
  },
  {
   "cell_type": "markdown",
   "id": "520217af-48da-4d87-96f4-1a2b7fc4d5f3",
   "metadata": {},
   "source": [
    "<center><img src=\"./imagenes/imagen2.jpg\" width=\"600\"/> </center>"
   ]
  },
  {
   "cell_type": "markdown",
   "id": "76223a85-7e9d-46f0-a5b6-7cbd89441a98",
   "metadata": {},
   "source": [
    "De esta forma, debemos analizar todos los puntos del espesor de la pared, es decir que los puntos $W$ y $E$, en el proceso del cálculo serán también puntos $P$. Para el caso de la imagen anterior, el tamaño del elemento de malla (volumen de control) será $\\Delta$X."
   ]
  },
  {
   "cell_type": "markdown",
   "id": "7f0ce135-874a-4a8f-9b64-88487d6bc4c8",
   "metadata": {},
   "source": [
    "## 2. Discretización"
   ]
  },
  {
   "cell_type": "markdown",
   "id": "ea40f505-3257-46ad-a03c-590447b43126",
   "metadata": {},
   "source": [
    "La discretización consiste en convertir una ecuación diferencial en una ecuación aritmética que pueda ser resuelta. En este caso se utiliza el método de los volúmenes finitos. \n",
    "De la ecuación (1), podemos integrar un volumen de control obteniendo lo siguiente:"
   ]
  },
  {
   "cell_type": "markdown",
   "id": "fb22da26-f7d7-4080-bd90-ab81193b8ac4",
   "metadata": {},
   "source": [
    "\\begin{equation} \\int_{\\Delta V} \\frac{d}{dx} \\left( \\Gamma \\frac{d\\phi}{dx} \\right) dV + \\int_{\\Delta V}S dV = 0 \\tag{2.1} \\end{equation}"
   ]
  },
  {
   "cell_type": "markdown",
   "id": "45666ded-a9b2-49a5-878a-ed980972557d",
   "metadata": {},
   "source": [
    "\\begin{equation} \\left( \\Gamma A \\frac{d\\phi}{dx} \\right)_e - \\left( \\Gamma A \\frac{d\\phi}{dx} \\right)_w+ \\overline{S}\\Delta V  = 0  \\tag{2.2} \\end{equation}"
   ]
  },
  {
   "cell_type": "markdown",
   "id": "97092913-70db-4cf0-be49-954b32170f87",
   "metadata": {},
   "source": [
    "Donde $A$ es el área de la sección transversal de la cara del volumen de control, $\\Delta$V es le volumen de control y $\\overline{S}$ es la fuente sobre el volumen de control."
   ]
  },
  {
   "cell_type": "markdown",
   "id": "af089ad0-7f10-49fb-8486-dd2cc9abe5a3",
   "metadata": {},
   "source": [
    "Si aplicamos diferencias centradas para el coeficiente de difusión $\\Gamma$ tendremos las siguientes equivalencias en nuestra malla unidimensional de acuerdo a la imagen previa."
   ]
  },
  {
   "cell_type": "markdown",
   "id": "dd8bdf99-2fd7-41dd-ab6e-d7887d837c05",
   "metadata": {},
   "source": [
    "\\begin{equation} \\Gamma_w = \\frac{\\Gamma_W + \\Gamma_P}{2} \\tag{3.1} \\end{equation}"
   ]
  },
  {
   "cell_type": "markdown",
   "id": "08316b73-e580-41f6-9ea0-a87cdc089be4",
   "metadata": {},
   "source": [
    "\\begin{equation} \\Gamma_e = \\frac{\\Gamma_P + \\Gamma_E}{2} \\tag{3.2} \\end{equation}"
   ]
  },
  {
   "cell_type": "markdown",
   "id": "f3a33086-155b-423e-81c5-d4bfb1cd0613",
   "metadata": {},
   "source": [
    "La ecuación (2.2) la podemos reescribir de la siguiente manera:"
   ]
  },
  {
   "cell_type": "markdown",
   "id": "5e1746e2-4db8-4263-8663-c8c64f82b15d",
   "metadata": {},
   "source": [
    "\\begin{equation} \\left( \\Gamma A \\frac{d\\phi}{dx} \\right)_e = \\Gamma_e A_e \\left(\\frac{ \\phi_E -\\phi_P}{\\delta x_{PE}} \\right) \\tag{4.1} \\end{equation}"
   ]
  },
  {
   "cell_type": "markdown",
   "id": "e6e810c4-0b55-42c0-bf78-08182816af9e",
   "metadata": {},
   "source": [
    "\\begin{equation} \\left( \\Gamma A \\frac{d\\phi}{dx} \\right)_w = \\Gamma_w A_w \\left(\\frac{ \\phi_P -\\phi_W}{\\delta x_{WP}} \\right) \\tag{4.2} \\end{equation}"
   ]
  },
  {
   "cell_type": "markdown",
   "id": "c546a8e1-069b-4840-abc7-092414f2c7df",
   "metadata": {},
   "source": [
    "Además podemos aproximar la ecuación de la fuente (aproximación basada en el libro de Versteg-Malalasekera) en la siguiente igualdad:"
   ]
  },
  {
   "cell_type": "markdown",
   "id": "08c778f6-c8d8-45ca-bc2c-284471e179aa",
   "metadata": {},
   "source": [
    "\\begin{equation} \\overline{S}\\Delta V = S_u + S_P \\phi_P  \\tag{5} \\end{equation}"
   ]
  },
  {
   "cell_type": "markdown",
   "id": "be4956ad-6a02-462c-a511-1760c0b3a6eb",
   "metadata": {},
   "source": [
    "Reemplazando las ecuaciones (4.1), (4.2) y (5) en la ecuación (2.2) tenemos:"
   ]
  },
  {
   "cell_type": "markdown",
   "id": "c2e02aad-620e-461b-ac8c-b51953e91152",
   "metadata": {},
   "source": [
    "\\begin{equation} \\Gamma_e A_e \\left(\\frac{ \\phi_E -\\phi_P}{\\delta x_{PE}} \\right)  - \\Gamma_w A_w \\left(\\frac{ \\phi_P -\\phi_W}{\\delta x_{WP}} \\right) +  S_u + S_P \\phi_P = 0 \\tag{6} \\end{equation}"
   ]
  },
  {
   "cell_type": "markdown",
   "id": "9c52c6d0-9940-4a7a-bc1c-70d3b2225849",
   "metadata": {},
   "source": [
    "Factorizando $\\phi_P$, $\\phi_W$ y $\\phi_E$ tendremos lo siguiente:"
   ]
  },
  {
   "cell_type": "markdown",
   "id": "b7835605-cdc5-4557-a217-ced9bda0cea7",
   "metadata": {},
   "source": [
    "\\begin{equation} \\boxed {\\left( \\frac{\\Gamma_e}{\\delta X_{PE}} A_e + \\frac{\\Gamma_w}{\\delta X_{WP}} A_w -S_p \\right) \\phi_P = \\left(\\frac{\\Gamma_w}{\\delta X_{WP}} A_w \\right)\\phi_W + \\left(\\frac{\\Gamma_e}{\\delta X_{PE}} A_e \\right)\\phi_E + S_u } \\tag{7} \\end{equation}"
   ]
  },
  {
   "cell_type": "markdown",
   "id": "3c8e13fc-cf75-4390-aafb-192876149f75",
   "metadata": {},
   "source": [
    "De la ecuación anterior, es posible expresarla de la siguiente manera para simplificarla:"
   ]
  },
  {
   "cell_type": "markdown",
   "id": "305a1024-3fae-43cc-a21e-75c72ab88a22",
   "metadata": {},
   "source": [
    "\\begin{equation} a_P \\phi_P = a_W \\phi_W + a_E \\phi_E +S_u \\tag{8} \\end{equation}"
   ]
  },
  {
   "cell_type": "markdown",
   "id": "64960a45-6b70-40d9-97cf-523b71dfb918",
   "metadata": {},
   "source": [
    "Donde los valores de $a_P, a_W$ y $a_E$ son:  "
   ]
  },
  {
   "cell_type": "markdown",
   "id": "8f950fa5-c6a8-4ad8-8e7d-8827bb5effcd",
   "metadata": {},
   "source": [
    "| $a_W$ | $a_E$ | $a_P$ |\n",
    "| --- | --- | --- |\n",
    "| $ \\frac{\\Gamma_w}{\\delta X_{WP}} A_w $ | $ \\frac{\\Gamma_e}{\\delta X_{PE}} A_e $ | $a_W+a_E-S_P$ |\n"
   ]
  },
  {
   "cell_type": "markdown",
   "id": "44995b02-6053-4595-8f92-1387699507e3",
   "metadata": {},
   "source": [
    "## 3. Solución de de Difusión estacionaria en 1D"
   ]
  },
  {
   "cell_type": "markdown",
   "id": "e9ffa19c-5d53-431b-b4a9-adf2b1247ace",
   "metadata": {},
   "source": [
    "La ecuación de difusión (conductividad térmica), es similar a la ecuación (1), solo que en este caso reemplazamos por variables necesrias para la transferencia de calor, siendo la ecuación siguiente:"
   ]
  },
  {
   "cell_type": "markdown",
   "id": "7a422803-eebb-4ac2-a67c-d48db09d99fc",
   "metadata": {},
   "source": [
    "\\begin{equation} \\frac{d}{dx} \\left( k \\frac{dT}{dx} \\right) +S = 0 \\tag{9} \\end{equation}"
   ]
  },
  {
   "cell_type": "markdown",
   "id": "63437d06-c660-41ed-84f2-9fc937c58270",
   "metadata": {},
   "source": [
    "Donde $k$ es la conductividad térmica y $T$ es la temperatura."
   ]
  },
  {
   "cell_type": "markdown",
   "id": "2366a180-7502-4c48-b296-186a6a6e9a3d",
   "metadata": {},
   "source": [
    "### 3.1 Ejercicio Resuelto"
   ]
  },
  {
   "cell_type": "markdown",
   "id": "62e73d14-c9c0-4212-9379-b0df07252dc5",
   "metadata": {},
   "source": [
    "Tenemos una barra de 0.5 m de longitud, totalmente aislada (proceso adiabático), con una temperatura en el punto A, $T_A=100 °C$ y una temperatura en el punto B, $T_B=500°C$. La conductividad térmica $k=1000W/m.°K$, con un área seccional, $A=10x10^{-3}m^2$"
   ]
  },
  {
   "cell_type": "markdown",
   "id": "fe3c799d-511b-49b9-a8c2-ccb25aa3b779",
   "metadata": {},
   "source": [
    "<center> <img src=\"./imagenes/imagen3.jpg\" width=\"600\"/> </center>"
   ]
  },
  {
   "cell_type": "markdown",
   "id": "de569682-d2e4-4e40-8595-7db5536078f5",
   "metadata": {},
   "source": [
    "Generamos la malla creando 5 puntos en la barra como se muestra en la siguiente figura. Observa que la distancia entre los puntos es $\\delta X$, mientras que la distancia entre el puntos inicial y final con los extremos de la barra son $\\delta X/2$ respectivamente."
   ]
  },
  {
   "cell_type": "markdown",
   "id": "be52ce7a-c6dd-427b-99bb-f626eed128bf",
   "metadata": {},
   "source": [
    "<center><img src=\"./imagenes/imagen4.jpg\" width=\"600\"/> </center>"
   ]
  },
  {
   "cell_type": "markdown",
   "id": "67eb3fc5-6687-42f1-a483-63bb90acc486",
   "metadata": {},
   "source": [
    "En este ejercicio los valores de las conductividades térmicas $k_e$ y $k_w$ son iguales al tratarse de un mismo material. Por otro lado, las áreas $A_P$, $A_W$ y $A_E$ son iguales, pues la sección de la barra se mantiene uniforme en toda su longitud."
   ]
  },
  {
   "cell_type": "markdown",
   "id": "9de28cf2-fe27-4bc6-8e07-67995a3f88d2",
   "metadata": {},
   "source": [
    "Ahora analizaremos cada nodo, iniciando con el nodo 1, observa la figura anterior."
   ]
  },
  {
   "cell_type": "markdown",
   "id": "58d77b11-306d-4531-9837-2f5f4f3fa2a4",
   "metadata": {},
   "source": [
    "#### Nodo 1"
   ]
  },
  {
   "cell_type": "markdown",
   "id": "604eb2a2-37df-43c0-81e1-5c24f1e73500",
   "metadata": {},
   "source": [
    "De la ecuación (9), reemplazando valores podemos escribir la ecuación para el nodo 1 como:"
   ]
  },
  {
   "cell_type": "markdown",
   "id": "67bdcbe9-2f2e-48d5-9fd9-8689e6862e6f",
   "metadata": {},
   "source": [
    "\\begin{equation} kA \\left(\\frac{T_E - T_P}{\\delta x}  \\right) - kA \\left(\\frac{T_P - T_A}{\\delta x / 2}  \\right) = 0 \\tag{10}\\end{equation}"
   ]
  },
  {
   "cell_type": "markdown",
   "id": "b1b8058d-136e-45d0-a8be-db902d5e25a5",
   "metadata": {},
   "source": [
    "Nótese que para el Nodo 1 tenemos que usar los puntos vecinos 2 (East) y A (extremo izquierdo), donde la distancia entre el punto A y el punto 1 es $\\delta x/2$."
   ]
  },
  {
   "cell_type": "markdown",
   "id": "0289089c-8a3e-41bc-9dfa-4d2855867fa0",
   "metadata": {},
   "source": [
    "Si factorizamos las temperaturas imitando a la encuacón (7) tendremos lo siguiente:"
   ]
  },
  {
   "cell_type": "markdown",
   "id": "ffa6211f-be78-4bea-a39e-0b2988e9eb2c",
   "metadata": {},
   "source": [
    "\\begin{equation} {\\left( \\frac{\\Gamma_e}{\\delta X_{PE}} A_e + \\frac{\\Gamma_w}{\\delta X_{WP}} A_w -S_p \\right) \\phi_P = \\left(\\frac{\\Gamma_w}{\\delta X_{WP}} A_w \\right)\\phi_W + \\left(\\frac{\\Gamma_e}{\\delta X_{PE}} A_e \\right)\\phi_E + S_u } \\tag{7} \\end{equation}\n",
    "\\begin{equation} \\left( \\frac{k}{\\delta x}A+ \\frac{2k}{\\delta x}A \\right)T_P = 0.T_W +\\left( \\frac{k}{\\delta x}A \\right)T_E + \\left( \\frac{2k}{\\delta x}A \\right)T_A \\tag{11} \\end{equation}"
   ]
  },
  {
   "cell_type": "markdown",
   "id": "af718b2f-a445-43c9-96e3-3359c994fe2d",
   "metadata": {},
   "source": [
    "Si comparamos las ecuaciones (7) y (11), se observa que el termino $W$ no existe, debido a que estamos tomando como referencia del punto vecino de la izquierda que es el punto $A$ (esto solo sucede en los extremos, Punto 1 y Punto 5). Por este motivo podemos decir que en el Nodo 1:"
   ]
  },
  {
   "cell_type": "markdown",
   "id": "94695945-d64d-4cb1-9ed5-64cf88905e32",
   "metadata": {},
   "source": [
    "\\begin{equation} \\boxed{ a_P T_P = a_W T_W + a_E T_E +S_u }\\tag{12}  \\end{equation}"
   ]
  },
  {
   "cell_type": "markdown",
   "id": "6256078e-60b0-4d63-bae5-95bf1f179ccc",
   "metadata": {},
   "source": [
    "Donde:"
   ]
  },
  {
   "cell_type": "markdown",
   "id": "916178fd-dffb-477b-a0dc-424b8b7226ac",
   "metadata": {},
   "source": [
    "|  $a_W$ |           $a_E$            |      $a_P$      |            $S_P$             | $S_u$                         |\n",
    "|-------:|:--------------------------:|:---------------:|:----------------------------:|:------------------------------|\n",
    "|    $0$ | $ \\frac{k}{\\delta x} A  $  | $a_W+a_E -S_P$  | $ -\\frac{2k}{\\delta x} A  $  | $ \\frac{2kA}{\\delta x} T_A  $"
   ]
  },
  {
   "cell_type": "markdown",
   "id": "261ee39d-5517-4dc1-ba1d-02264f85daee",
   "metadata": {},
   "source": [
    "#### Nodos 2, 3 y 4"
   ]
  },
  {
   "cell_type": "markdown",
   "id": "edbd57c4-8e04-4674-a686-a60644ca7314",
   "metadata": {},
   "source": [
    "Para los nodos intermedios, es más sencillo, siendo la ecuación:\n"
   ]
  },
  {
   "cell_type": "markdown",
   "id": "91fd0557-b9cb-4023-b3e4-cf27442eaad4",
   "metadata": {},
   "source": [
    "\\begin{equation} \\left( \\frac{k_e}{\\delta x_{PE}}A_e+ \\frac{k_w}{\\delta x_{WP}}A_w \\right)T_P = \\left( \\frac{k_w}{\\delta x}A_w \\right)T_W +\\left( \\frac{k_e}{\\delta x_{WP}}A_e \\right)T_E \\tag{11} \\end{equation}"
   ]
  },
  {
   "cell_type": "markdown",
   "id": "280c2630-b8d5-41ae-9531-ba991cbba75a",
   "metadata": {},
   "source": [
    "Por lo tanto podemos usar los valores de $a_W$, $a_E$ y $a_P$ como se indica en la siguiente tabla, sabiendo además en estos puntos no existe ninguna fuente ($S$) de generación de calor:"
   ]
  },
  {
   "cell_type": "markdown",
   "id": "fe33366f-57a6-4ba9-8b4a-efb3c0670b34",
   "metadata": {},
   "source": [
    "| $a_W$ | $a_E$ | $a_P$ |\n",
    "| --- | --- | --- |\n",
    "| $ \\frac{k}{\\delta x} A $ | $ \\frac{k}{\\delta x} A $ | $a_W+a_E$ |"
   ]
  },
  {
   "cell_type": "markdown",
   "id": "e7dac28f-5cdb-4b48-8820-482275d6ac6b",
   "metadata": {},
   "source": [
    "#### Nodo 5"
   ]
  },
  {
   "cell_type": "markdown",
   "id": "08a31a14-dc55-4eec-862f-649eb8057266",
   "metadata": {},
   "source": [
    "Analogamente como en el Nodo 1, nos quedaría de la siguiente manera para el Nodo 5:"
   ]
  },
  {
   "cell_type": "markdown",
   "id": "6e6413fc-0b46-4b7f-a499-e53bf25c42fd",
   "metadata": {},
   "source": [
    "| $a_W$                     | $a_E$ | $a_P$          | $S_P$                       | $S_u$                         |\n",
    "|---------------------------|-------|----------------|-----------------------------|-------------------------------|\n",
    "| $ \\frac{k}{\\delta x} A  $ | $0$   | $a_W+a_E -S_P$ | $ -\\frac{2k}{\\delta x} A  $ | $ \\frac{2kA}{\\delta x} T_B  $ |"
   ]
  },
  {
   "cell_type": "markdown",
   "id": "08434d2f-c109-48c6-9b90-61335af98fec",
   "metadata": {},
   "source": [
    "#### Sistema de ecuaciones lineales"
   ]
  },
  {
   "cell_type": "markdown",
   "id": "6b570bc0-9be5-4af2-98ce-0328bf87666d",
   "metadata": {},
   "source": [
    "Reemplazando los valores del ejercicio tendremos las siguientes ecuaciones lineales en función de la temperaturas a los largo de la barra:"
   ]
  },
  {
   "cell_type": "markdown",
   "id": "8e632d1a-44d3-4850-ab17-ea5de954b49d",
   "metadata": {},
   "source": [
    "\\begin{equation} Nodo 1: 300T_1 = 100T_2 + 200T_A \\end{equation}\n",
    "\\begin{equation} Nodo 2: 200T_2 = 100T_1 + 100T_3 \\end{equation}\n",
    "\\begin{equation} Nodo 3: 200T_3 = 100T_2 + 100T_4 \\end{equation}\n",
    "\\begin{equation} Nodo 4: 200T_4 = 100T_3 + 100T_5 \\end{equation}\n",
    "\\begin{equation} Nodo 5: 300T_5 = 100T_4 + 200T_B \\end{equation}"
   ]
  },
  {
   "cell_type": "markdown",
   "id": "7d87f1ac-2403-4f3a-8265-b5b854efa8a8",
   "metadata": {},
   "source": [
    "| Nodos | $a_W$ | $a_E$ | $S_u$ | $S_P$ | $a_P=a_W+a_E-S_P$ |\n",
    "| --- | --- | --- | --- | --- | --- |\n",
    "| $1$ | $0$ | $100$ | $200T_A$| $-200$ | $300$\n",
    "| $2$ | $100$ | $100$ | $ 0 $| $ 0 $ | $200$\n",
    "| $3$ | $100$ | $100$ | $ 0 $| $ 0 $ | $200$\n",
    "| $4$ | $100$ | $100$ | $ 0 $| $ 0 $ | $200$\n",
    "| $5$ | $100$ | $0$ | $200T_B$| $-200$ | $300$"
   ]
  },
  {
   "cell_type": "markdown",
   "id": "92e4cc5d-e3b5-4032-a4d0-68980382e625",
   "metadata": {},
   "source": [
    "Armando la Matriz del sistema de ecuaciones lineales:"
   ]
  },
  {
   "cell_type": "markdown",
   "id": "723af050-1b79-4812-92d5-260548aace4d",
   "metadata": {},
   "source": [
    "\\begin{equation} \\begin{bmatrix} 300 & -100 & 0 & 0 & 0 \\\\ -100 & 200 & -100 & 0 & 0 \\\\ 0 & -100 & 200 & -100 & 0 \\\\ 0 & 0 & -100 & 200 & -100 \\\\ 0 & 0 & 0 & -100 & 300 \\end{bmatrix}\\begin{bmatrix} T_1 \\\\ T_2 \\\\ T_3 \\\\ T_4 \\\\ T_5  \\end{bmatrix} = \\begin{bmatrix} 200T_A \\\\ 0 \\\\ 0 \\\\0 \\\\ 200T_B \\end{bmatrix} \\end{equation}"
   ]
  },
  {
   "cell_type": "markdown",
   "id": "ae2ea05f-5159-4e4f-92a8-63bc6fbbece4",
   "metadata": {},
   "source": [
    "Las temperaturas, $T_A$ y $T_B$ son datos del problema, por lo que reemplazando tendremos que:"
   ]
  },
  {
   "cell_type": "markdown",
   "id": "fb31bcbd-b5b2-41c0-a2b6-6173bdbd1511",
   "metadata": {},
   "source": [
    "\\begin{equation} \\begin{bmatrix} T_1 \\\\ T_2 \\\\ T_3 \\\\ T_4 \\\\ T_5 \\end{bmatrix} =  \\begin{bmatrix} 140 \\\\ 220 \\\\ 300 \\\\ 380 \\\\ 460 \\end{bmatrix}  \\end{equation}"
   ]
  },
  {
   "cell_type": "code",
   "execution_count": 11,
   "id": "9802b3ef-3529-42f8-b83b-7d240ad3315b",
   "metadata": {},
   "outputs": [
    {
     "name": "stdout",
     "output_type": "stream",
     "text": [
      "[0.   0.05 0.15 0.25 0.35 0.45 0.5 ]\n",
      "[100. 140. 220. 300. 380. 460. 500.]\n"
     ]
    },
    {
     "data": {
      "image/png": "[encoded data removed]",
      "text/plain": [
       "<Figure size 640x480 with 1 Axes>"
      ]
     },
     "metadata": {},
     "output_type": "display_data"
    }
   ],
   "source": [
    "# Resolviendo Ejercicio\n",
    "import numpy as np\n",
    "import matplotlib.pyplot as plt\n",
    "Ta = 100 #Temperatura en el extremo izquierdo [°C]\n",
    "Tb = 500 #Temperatura en el extremo derecho [°C]\n",
    "k = 1000 #Conductividad térmica [W/m°K]\n",
    "A = 10e3 #Área seccional de la barra [m2]\n",
    "L = 0.5 #Longitud de la barra [m]\n",
    "l = 0.1 #Tamaño del elemento de malla [m]\n",
    "# Puntos a calcular en la barra (mallado)\n",
    "x = np.arange(l/2,0.5,l) #Creando la malla\n",
    "x = np.append(x, L) #Agregando valor al final\n",
    "x = np.insert(x,0,0) #Agregando valor al inicio\n",
    "print(x)\n",
    "#De las ecuaciones obtenidas para los nodos 1, 2, 3, 4 y 5 obtenemos el siguiente sistema de ecuaciones lineales en matrices\n",
    "Matriz1 = np.matrix([[300,-100,0,0,0],[-100,200,-100,0,0],[0,-100,200,-100,0],[0,0,-100,200,-100],[0,0,0,-100,300]])\n",
    "Matriz2 = np.matrix([[200*Ta],[0],[0],[0],[200*Tb]])\n",
    "#Resolviendo la matriz\n",
    "T = (Matriz1**(-1))*Matriz2\n",
    "T = np.transpose(T)\n",
    "T = np.array(T)\n",
    "T = np.ravel(T)\n",
    "T = np.append(T, Tb) #Agregando valor al final\n",
    "T = np.insert(T,0,100) #Agregando valor al inicio\n",
    "print(T)\n",
    "plt.plot(x,T,\"ob--\")\n",
    "plt.title('Variación de la Temperatura a los largo de la barra')\n",
    "plt.xlabel('Longitud de la barra [m]')\n",
    "plt.ylabel('Temperatura [°C]')\n",
    "plt.grid(color='r', linestyle='dotted', linewidth=1)"
   ]
  },
  {
   "cell_type": "code",
   "execution_count": 11,
   "id": "35115a40",
   "metadata": {},
   "outputs": [],
   "source": []
  }
 ],
 "metadata": {
  "kernelspec": {
   "display_name": "Python 3 (ipykernel)",
   "language": "python",
   "name": "python3"
  },
  "language_info": {
   "codemirror_mode": {
    "name": "ipython",
    "version": 3
   },
   "file_extension": ".py",
   "mimetype": "text/x-python",
   "name": "python",
   "nbconvert_exporter": "python",
   "pygments_lexer": "ipython3",
   "version": "3.10.9"
  }
 },
 "nbformat": 4,
 "nbformat_minor": 5
}
