{
 "cells": [
  {
   "cell_type": "markdown",
   "metadata": {},
   "source": [
    "# Método de Volúmenes Finitos - Término Fuente"
   ]
  },
  {
   "cell_type": "markdown",
   "metadata": {},
   "source": [
    "En el tutorial anterior aprendimos en que consiste el método de volúmenes finitos para la ecuación de difusión en 1D en régimen estacionario. En este tutorial desarrollaremos el mismo ejercicio, pero se añadirá un fuente de generación de calor y se hará una comparación entre el resultado numérico y el resultado analítico."
   ]
  },
  {
   "cell_type": "markdown",
   "metadata": {},
   "source": [
    "\\begin{equation} \\frac{d}{dx} \\left( k \\frac{dT}{dx} \\right) +S = 0 \\tag{1} \\end{equation}"
   ]
  },
  {
   "cell_type": "markdown",
   "metadata": {},
   "source": [
    "## Ejercicio"
   ]
  },
  {
   "cell_type": "markdown",
   "metadata": {},
   "source": [
    "Se tiene un espesor de pared cuyas caras extremas $A$ y $B$ tienen una temperatura de 100 °C y 200 °C respectivamente. Si la longitud del espesor de pared, $L = 2 cm$, la conductividad térmica $k = 0.5 W/m.°K$ y la generación de calor uniforme, $q = 1000 kW/m^3$. Calcular la distribución de temperaturas a lo largo del espesor de pared."
   ]
  },
  {
   "cell_type": "markdown",
   "metadata": {},
   "source": [
    "<center> <img src=\"./imagenes/imagen5.jpg\" width=\"300\"/> </center>"
   ]
  },
  {
   "cell_type": "markdown",
   "metadata": {},
   "source": [
    "## Solución"
   ]
  },
  {
   "cell_type": "markdown",
   "metadata": {},
   "source": [
    "Al igual que en el caso anterior, debemos generar una malla y discretizar la ecuación de difusión de calor (1). En este caso, la malla será dividida en 5 volúmenes de control, resultado que el tamaño de elemento de malla será $\\delta x = 0.004m$"
   ]
  },
  {
   "cell_type": "markdown",
   "metadata": {},
   "source": [
    "<center> <img src=\"./imagenes/imagen6.jpg\" width=\"600\"/> </center>"
   ]
  },
  {
   "cell_type": "markdown",
   "metadata": {},
   "source": [
    "### Para los nodos 2, 3 y 4"
   ]
  },
  {
   "cell_type": "markdown",
   "metadata": {},
   "source": [
    "Para discretizar la ecuación de difusión, primero integramos respecto de los puntos intermedios $w$ y $e$ (minúscula)"
   ]
  },
  {
   "cell_type": "markdown",
   "metadata": {},
   "source": [
    "\\begin{equation} \\int_{\\Delta V} \\frac{d}{dx} \\left( k \\frac{dT}{dx} \\right) dV + \\int_{\\Delta V}q dV = 0 \\tag{2} \\end{equation}"
   ]
  },
  {
   "cell_type": "markdown",
   "metadata": {},
   "source": [
    "\\begin{equation} \\left[ \\left( kA \\frac{dT}{dx} \\right)_e - \\left( kA \\frac{dT}{dx} \\right)_w \\right] + q \\Delta V = 0 \\tag{3}\\end{equation}"
   ]
  },
  {
   "cell_type": "markdown",
   "metadata": {},
   "source": [
    "\\begin{equation} \\left[  k_e A \\left(\\frac{T_E-T_P}{\\delta x} \\right) -  k_w A \\left(\\frac{T_P - T_W}{\\delta_x} \\right) \\right] + q A \\delta x = 0 \\tag{4}\\end{equation}"
   ]
  },
  {
   "cell_type": "markdown",
   "metadata": {},
   "source": [
    "Factorizando las temperaturas, podemos reordenar la ecuación de la siguiente forma:"
   ]
  },
  {
   "cell_type": "markdown",
   "metadata": {},
   "source": [
    "\\begin{equation} \\left( \\frac{k_e A}{\\delta x} + \\frac{k_w A}{\\delta x}  \\right) T_P = \\left(\\frac{k_w A}{\\delta x}\\right)T_W +\\left(\\frac{k_e A}{\\delta x}\\right)T_E +qA \\delta x \\tag{5} \\end{equation}"
   ]
  },
  {
   "cell_type": "markdown",
   "metadata": {},
   "source": [
    "Luego, podemos simplificar la ecuación con la siguiente expresión:"
   ]
  },
  {
   "cell_type": "markdown",
   "metadata": {},
   "source": [
    "\\begin{equation} a_P T_P = a_W T_W + a_E T_E + S_u \\tag{6} \\end{equation}"
   ]
  },
  {
   "cell_type": "markdown",
   "metadata": {},
   "source": [
    "Para nuestro caso, al tratarse de un solo material el valor de $k_e$ y $k_w$ es el mismo, por lo que podemos tener las siguientes igualdades para la ecuación (5)"
   ]
  },
  {
   "cell_type": "markdown",
   "metadata": {},
   "source": [
    "|         $a_W$         |         $a_E$         |       $a_P$       | $S_P$ |    $S_u$     |\n",
    "|:---------------------:|:---------------------:|:-----------------:|:-----:|:------------:|\n",
    "| $\\frac{kA}{\\delta x}$ | $\\frac{kA}{\\delta x}$ | $a_W + a_E - S_P$ |  $0$  | $qA\\delta x$ |"
   ]
  },
  {
   "cell_type": "markdown",
   "metadata": {},
   "source": [
    "La ecuación (6) y la tabla previa son válidos para los nodos 2, 3 y 4. Debido a que en esos nodos se tendría información de los puntos vecinos $E$ y $W$"
   ]
  },
  {
   "cell_type": "markdown",
   "metadata": {},
   "source": [
    "Para los nodos 1 y 5, la discretización tendría ecuaciones diferentes por encontrase en las fronteras del espesor de pared."
   ]
  },
  {
   "cell_type": "markdown",
   "metadata": {},
   "source": [
    "### Para el Nodo 1"
   ]
  },
  {
   "cell_type": "markdown",
   "metadata": {},
   "source": [
    "Basandonos en la ecuación (2), discretizando los valores correspondientes tendremos que:"
   ]
  },
  {
   "cell_type": "markdown",
   "metadata": {},
   "source": [
    "\\begin{equation} \\left[ \\left( kA \\frac{dT}{dx} \\right)_e - \\left( kA \\frac{dT}{dx/2} \\right)_A \\right] + q \\Delta V = 0 \\tag{7}\\end{equation}"
   ]
  },
  {
   "cell_type": "markdown",
   "metadata": {},
   "source": [
    "\\begin{equation} \\left[  k_e A \\left(\\frac{T_E-T_P}{\\delta x} \\right) -  k_A A \\left(\\frac{T_P - T_A}{\\delta_x/2} \\right) \\right] + q A \\delta x = 0 \\tag{8}\\end{equation}"
   ]
  },
  {
   "cell_type": "markdown",
   "metadata": {},
   "source": [
    "Como se trata del mismo material los valores de la conductividad térmica son iguales; $k_e = k_A = k$. Además las áreas se mantendrán iguales en todo el espesor de la pared."
   ]
  },
  {
   "cell_type": "markdown",
   "metadata": {},
   "source": [
    "Factorizando las temperaturas tendremos la siguiente forma:"
   ]
  },
  {
   "cell_type": "markdown",
   "metadata": {},
   "source": [
    "\\begin{equation} \\left( \\frac{k}{\\delta x}A+ \\frac{2k}{\\delta x}A \\right)T_P = 0.T_W +\\left( \\frac{k}{\\delta x}A \\right)T_E + \\left( \\frac{2k}{\\delta x}A \\right)T_A +qA\\delta x \\tag{9} \\end{equation}"
   ]
  },
  {
   "cell_type": "markdown",
   "metadata": {},
   "source": [
    "La ecuación (9) la podemos reemplazar por la ecuación (6), de donde la nueva tabla con los valores para cada coeficiente serán:"
   ]
  },
  {
   "cell_type": "markdown",
   "metadata": {},
   "source": [
    "| $a_W$ |         $a_E$         |       $a_P$       |       $S_P$       |               $S_u$               |\n",
    "|:-----:|:---------------------:|:-----------------:|:-----------------:|:---------------------------------:|\n",
    "|  $0$  | $\\frac{kA}{\\delta x}$ | $a_W + a_E - S_P$ | $-\\frac{2kA}{dx}$ | $qA\\delta x + \\frac{2kA}{dx} T_A$ |"
   ]
  },
  {
   "cell_type": "markdown",
   "metadata": {},
   "source": [
    "### Nodo 5"
   ]
  },
  {
   "cell_type": "markdown",
   "metadata": {},
   "source": [
    "Análogamente, para el nodo 5, podemos escribir la ecuación discretizada como:"
   ]
  },
  {
   "cell_type": "markdown",
   "metadata": {},
   "source": [
    "\\begin{equation} \\left( \\frac{2k}{\\delta x}A+ \\frac{k}{\\delta x}A \\right)T_P = \\left( \\frac{k}{\\delta x}A \\right).T_W +0.T_E + \\left( \\frac{2k}{\\delta x}A \\right)T_B +qA\\delta x \\tag{10} \\end{equation}"
   ]
  },
  {
   "cell_type": "markdown",
   "metadata": {},
   "source": [
    "Donde la tabla de los coeficientes será:"
   ]
  },
  {
   "cell_type": "markdown",
   "metadata": {},
   "source": [
    "|         $a_W$         | $a_E$ |       $a_P$       |       $S_P$       |               $S_u$               |\n",
    "|:---------------------:|:-----:|:-----------------:|:-----------------:|:---------------------------------:|\n",
    "| $\\frac{kA}{\\delta x}$ |  $0$  | $a_W + a_E - S_P$ | $-\\frac{2kA}{dx}$ | $qA\\delta x + \\frac{2kA}{dx} T_B$ |"
   ]
  },
  {
   "cell_type": "markdown",
   "metadata": {},
   "source": [
    "### Reemplazando Valores para cada nodo"
   ]
  },
  {
   "cell_type": "markdown",
   "metadata": {},
   "source": [
    "Reemplazado los valores en las tablas anteriores para cada nodo podemos construir la siguiente tabla:"
   ]
  },
  {
   "cell_type": "markdown",
   "metadata": {},
   "source": [
    "| $Nodo$ | $a_W$ | $a_E$ | $a_P$ | $S_P$  |     $S_u$     |\n",
    "|:------:|:-----:|:-----:|:-----:|:------:|:-------------:|\n",
    "|  $1$   |  $0$  | $125$ | $375$ | $-250$ | $4000+250T_A$ |\n",
    "|  $2$   | $125$ | $125$ | $250$ |  $0$   |    $4000$     |\n",
    "|  $3$   | $125$ | $125$ | $250$ |  $0$   |    $4000$     |\n",
    "|  $4$   | $125$ | $125$ | $250$ |  $0$   |    $4000$     |\n",
    "|  $5$   | $125$ |  $0$  | $375$ | $-250$ | $4000+250T_B$ |"
   ]
  },
  {
   "cell_type": "markdown",
   "metadata": {},
   "source": [
    "Este sistema de ecuaciones lineales lo podemos resolver usando matrices, quedando de la siguiente forma:"
   ]
  },
  {
   "cell_type": "markdown",
   "metadata": {},
   "source": [
    "\\begin{equation} \\begin{bmatrix} 375 & -125 & 0 & 0 & 0 \\\\ -125 & 250 & -125 & 0 & 0 \\\\ 0 & -125 & 250 & -125 & 0 \\\\ 0 & 0 & -125 & 250 & -125 \\\\ 0 & 0 & 0 & -125 & 375 \\end{bmatrix}\\begin{bmatrix} T_1 \\\\ T_2 \\\\ T_3 \\\\ T_4 \\\\ T_5  \\end{bmatrix} = \\begin{bmatrix} 1000000x0.004 + 250T_A \\\\ 4000 \\\\ 4000 \\\\ 4000 \\\\ 1000000x0.004+250T_B \\end{bmatrix} \\end{equation}"
   ]
  },
  {
   "cell_type": "markdown",
   "metadata": {},
   "source": [
    "Donde los valores de $T_A$ y $T_B$ son 100 °C y 200 °C respectivamente como indica el enunciado del ejercicio."
   ]
  },
  {
   "cell_type": "markdown",
   "metadata": {},
   "source": [
    "Resolviendo esta matriz (por ejemplo mediante la matriz inversa) obtenemos los siguientes resultados:"
   ]
  },
  {
   "cell_type": "markdown",
   "metadata": {},
   "source": [
    "\\begin{equation} \\begin{bmatrix} T_1 \\\\ T_2 \\\\ T_3 \\\\ T_4 \\\\ T_5 \\end{bmatrix} =  \\begin{bmatrix} 150 \\\\ 218 \\\\ 254 \\\\ 258 \\\\ 230 \\end{bmatrix}  \\end{equation}"
   ]
  },
  {
   "cell_type": "markdown",
   "metadata": {},
   "source": [
    "### Comparación de la solución analítica vs la solución numérica"
   ]
  },
  {
   "cell_type": "markdown",
   "metadata": {},
   "source": [
    "La solución analítica o solución exacta para este problema está dada mediante la siguiente ecuación:"
   ]
  },
  {
   "cell_type": "code",
   "execution_count": 5,
   "outputs": [],
   "source": [],
   "metadata": {
    "collapsed": false
   }
  },
  {
   "cell_type": "markdown",
   "metadata": {},
   "source": [
    "\\begin{equation} T = \\left[ \\frac{T_B - T_A}{L} + \\frac{q}{2k} \\left( L-x \\right) \\right]x+T_A \\tag{11} \\end{equation}"
   ]
  },
  {
   "cell_type": "markdown",
   "metadata": {},
   "source": [
    "Donde x serán las diferentes distancias a lo largo del espesor de la pared:"
   ]
  },
  {
   "cell_type": "markdown",
   "metadata": {},
   "source": [
    "|          $Nodo$           |   $1$   |   $2$   |   $3$   |   $4$   |   $5$   |\n",
    "|:-------------------------:|:-------:|:-------:|:-------:|:-------:|:-------:|\n",
    "|          $x(m)$           | $0.002$ | $0.006$ | $0.010$ | $0.014$ | $0.018$ |\n",
    "|   $Solución$ $Numérica$   |  $150$  |  $218$  |  $254$  |  $258$  |  $230$  |\n",
    "|  $Solución$ $Analítica$   |  $146$  |  $214$  |  $250$  |  $254$  |  $226$  |\n",
    "| $Porcentaje$ $de$ $Error$ | $2.73$  | $1.86$  | $1.60$  | $1.57$  | $1.76$  |"
   ]
  },
  {
   "cell_type": "markdown",
   "metadata": {},
   "source": [
    "### Resolviendo Ejercicios en Python"
   ]
  },
  {
   "cell_type": "markdown",
   "metadata": {},
   "source": [
    "Usando como base el código del tutorial anterior, lo hemos adaptado para el presente ejercicio y hacemos una comparación del resultado numérico con el resultado analítico (exacto), con el cual, según podemos observar en la gráfica hay una pequeña diferencia (porcentaje de error) el cual puede deberse al tamaño de elemento de malla, si refinamos esa malla, discretizando correctamente la ecuación de difusión nuevamente, obtendremos un resultados más cercano al real."
   ]
  },
  {
   "cell_type": "code",
   "execution_count": 6,
   "metadata": {},
   "outputs": [
    {
     "name": "stdout",
     "output_type": "stream",
     "text": [
      "[0.    0.001 0.003 0.005 0.007 0.009 0.011 0.013 0.015 0.017 0.019 0.02 ]\n",
      "[100. 125. 167. 201. 227. 245. 255. 257. 251. 237. 215. 200.]\n",
      "[100. 124. 166. 200. 226. 244. 254. 256. 250. 236. 214. 200.]\n"
     ]
    },
    {
     "data": {
      "text/plain": "<Figure size 640x480 with 1 Axes>",
      "image/png": "[encoded data removed]"
     },
     "metadata": {},
     "output_type": "display_data"
    }
   ],
   "source": [
    "# Resolviendo Ejercicio\n",
    "import numpy as np\n",
    "import matplotlib.pyplot as plt\n",
    "Ta = 100 #Temperatura en el extremo izquierdo [°C]\n",
    "Tb = 200 #Temperatura en el extremo derecho [°C]\n",
    "k = 0.5 #Conductividad térmica [W/m°K]\n",
    "A = 1 #Área seccional de la barra [m2] (tomamos el valor de 1, pues no afectará en el cálculo debido a que se elimina de cada término de la ecuación)\n",
    "L = 0.02 #Longitud de la barra [m]\n",
    "n = 10 #Cantidad de elementos\n",
    "l = L/n #Tamaño del elemento de malla [m]\n",
    "q = 1000000 #Fuente de calor [W/m3]\n",
    "# Puntos a calcular en la barra (mallado)\n",
    "x = np.arange(l/2,L,l) #Creando la malla\n",
    "x = np.append(x, L) #Agregando valor al final\n",
    "x = np.insert(x,0,0) #Agregando valor al inicio\n",
    "print(x)\n",
    "\n",
    "# SOLUCIÓN NUMÉRICA\n",
    "#De las ecuaciones obtenidas para los nodos 1, 2, 3, 4 y 5 obtenemos el siguiente sistema de ecuaciones lineales en matrices\n",
    "## Matriz1 = np.matrix([[375,-125,0,0,0],[-125,250,-125,0,0],[0,-125,250,-125,0],[0,0,-125,250,-125],[0,0,0,-125,375]])\n",
    "## Matriz2 = np.matrix([[1000000*0.004+250*Ta],[4000],[4000],[4000],[1000000*0.004+250*Tb]])\n",
    "\n",
    "#Para los nodos intermedios\n",
    "aw = k*A/l\n",
    "ae = k*A/l\n",
    "Sp = 0\n",
    "ap = aw+ae-Sp\n",
    "Su = q*A*l\n",
    "Matriz1 = np.zeros((n,n))\n",
    "for i in np.arange(1,n):\n",
    "    Matriz1[i][i-1]=-aw\n",
    "    Matriz1[i-1][i]=-ae\n",
    "    Matriz1[i][i]=ap\n",
    "\n",
    "#Para el nodo inicial\n",
    "awi = 0\n",
    "aei = k*A/l\n",
    "Spi = -2*k*A/l\n",
    "api = awi+aei-Spi\n",
    "Sui = q*A*l+2*k*A*Ta/l\n",
    "Matriz1[0][0] = api\n",
    "\n",
    "#Para el nodo final\n",
    "awf = k*A/l\n",
    "aef = 0\n",
    "Spf = -2*k*A/l\n",
    "apf = awi+aei-Spi\n",
    "Suf = q*A*l+2*k*A*Tb/l\n",
    "Matriz1[n-1][n-1] = apf\n",
    "\n",
    "#Construyendo la segunda matriz\n",
    "Matriz2 = np.zeros((n,1))\n",
    "for j in np.arange(1,n-1):\n",
    "    Matriz2[j][0]=Su\n",
    "    Matriz2[0][0]=Sui\n",
    "    Matriz2[n-1][0]=Suf\n",
    "\n",
    "#Resolviendo la matriz\n",
    "T = np.linalg.inv(Matriz1)\n",
    "T = np.matmul(T,Matriz2)\n",
    "T = np.append(T, Tb) #Agregando valor al final\n",
    "T = np.insert(T,0,Ta) #Agregando valor al inicio\n",
    "print(T)\n",
    "\n",
    "# SOLUCIÓN ANALÍTICA\n",
    "Texacto = ((Tb-Ta)/L+(q*(L-x))/(2*k))*x+Ta\n",
    "print(Texacto)\n",
    "\n",
    "#Gráfica\n",
    "plt.plot(x,T,\"ob--\")\n",
    "plt.plot(x,Texacto, \"o-\", color='green')\n",
    "plt.title('Variación de la Temperatura a los largo de la barra')\n",
    "plt.xlabel('Longitud de la barra [m]')\n",
    "plt.ylabel('Temperatura [°C]')\n",
    "plt.grid(color='r', linestyle='dotted', linewidth=1)\n",
    "plt.legend(['Solución Numérica','Solución Analítica']);\n"
   ]
  }
 ],
 "metadata": {
  "kernelspec": {
   "display_name": "Python 3 (ipykernel)",
   "language": "python",
   "name": "python3"
  },
  "language_info": {
   "codemirror_mode": {
    "name": "ipython",
    "version": 3
   },
   "file_extension": ".py",
   "mimetype": "text/x-python",
   "name": "python",
   "nbconvert_exporter": "python",
   "pygments_lexer": "ipython3",
   "version": "3.10.9"
  }
 },
 "nbformat": 4,
 "nbformat_minor": 1
}
